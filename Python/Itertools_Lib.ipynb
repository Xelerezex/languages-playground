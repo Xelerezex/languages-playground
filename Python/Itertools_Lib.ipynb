{
 "cells": [
  {
   "cell_type": "code",
   "execution_count": 2,
   "id": "medieval-punch",
   "metadata": {},
   "outputs": [],
   "source": [
    "import itertools"
   ]
  },
  {
   "cell_type": "markdown",
   "id": "existing-application",
   "metadata": {},
   "source": [
    "# itertools.count()"
   ]
  },
  {
   "cell_type": "code",
   "execution_count": 20,
   "id": "funny-coach",
   "metadata": {},
   "outputs": [
    {
     "name": "stdout",
     "output_type": "stream",
     "text": [
      "0\n",
      "1\n",
      "2\n",
      "3\n",
      "4\n",
      "5\n",
      "6\n",
      "7\n"
     ]
    }
   ],
   "source": [
    "counter = itertools.count()\n",
    "\n",
    "print(next(counter))\n",
    "print(next(counter))\n",
    "print(next(counter))\n",
    "print(next(counter))\n",
    "print(next(counter))\n",
    "print(next(counter))\n",
    "print(next(counter))\n",
    "print(next(counter))"
   ]
  },
  {
   "cell_type": "code",
   "execution_count": 17,
   "id": "portable-stations",
   "metadata": {},
   "outputs": [
    {
     "name": "stdout",
     "output_type": "stream",
     "text": [
      "[(5, 100), (10, 200), (15, 300), (20, 400)]\n"
     ]
    }
   ],
   "source": [
    "counter = itertools.count()\n",
    "\n",
    "data = [100, 200, 300, 400]\n",
    "\n",
    "daily_data = zip(itertools.count(start = 5, step = 5), data)\n",
    "\n",
    "print(list(daily_data))"
   ]
  },
  {
   "cell_type": "markdown",
   "id": "competent-august",
   "metadata": {},
   "source": [
    "# itertools.zip_longest()"
   ]
  },
  {
   "cell_type": "code",
   "execution_count": 23,
   "id": "operational-contest",
   "metadata": {},
   "outputs": [
    {
     "name": "stdout",
     "output_type": "stream",
     "text": [
      "[(0, 100), (1, 200), (2, 300), (3, 400), (4, None), (5, None), (6, None), (7, None), (8, None), (9, None)]\n"
     ]
    }
   ],
   "source": [
    "data = [100, 200, 300, 400]\n",
    "\n",
    "daily_data = itertools.zip_longest(range(10), data)\n",
    "\n",
    "print(list(daily_data))"
   ]
  },
  {
   "cell_type": "markdown",
   "id": "dominant-tuition",
   "metadata": {},
   "source": [
    "# itertools.cycle()"
   ]
  },
  {
   "cell_type": "code",
   "execution_count": 45,
   "id": "acknowledged-piece",
   "metadata": {},
   "outputs": [
    {
     "name": "stdout",
     "output_type": "stream",
     "text": [
      "On\n",
      "Off\n",
      "Dead\n",
      "On\n",
      "Off\n",
      "Dead\n",
      "On\n",
      "Off\n",
      "Dead\n",
      "On\n",
      "Off\n",
      "Dead\n",
      "On\n",
      "Off\n",
      "Dead\n",
      "On\n",
      "Off\n",
      "Dead\n",
      "On\n",
      "Off\n"
     ]
    }
   ],
   "source": [
    "counter = itertools.cycle(('On', 'Off', 'Dead'))\n",
    "\n",
    "for i in range(20):\n",
    "    print(next(counter))\n"
   ]
  },
  {
   "cell_type": "markdown",
   "id": "christian-example",
   "metadata": {},
   "source": [
    "# itertools.repeat()"
   ]
  },
  {
   "cell_type": "code",
   "execution_count": 46,
   "id": "favorite-provision",
   "metadata": {},
   "outputs": [
    {
     "name": "stdout",
     "output_type": "stream",
     "text": [
      "[0, 1, 8, 27, 64, 125, 216, 343, 512, 729]\n"
     ]
    }
   ],
   "source": [
    "counter = itertools.repeat(4, times = 3)\n",
    "\n",
    "#for i in range(10):\n",
    "#    print(next(counter))\n",
    "\n",
    "squares = map(pow, range(10), itertools.repeat(3)) #pow(first_from_range, second_generated_from itertools_const)\n",
    "print(list(squares))"
   ]
  },
  {
   "cell_type": "markdown",
   "id": "young-commerce",
   "metadata": {},
   "source": [
    "# itertools.starmap()"
   ]
  },
  {
   "cell_type": "code",
   "execution_count": 47,
   "id": "cathedral-franchise",
   "metadata": {},
   "outputs": [
    {
     "name": "stdout",
     "output_type": "stream",
     "text": [
      "[0, 1, 4]\n"
     ]
    }
   ],
   "source": [
    "squares = itertools.starmap(pow, [(0, 2), (1, 2), (2, 2)]) #pow(0, 2) #pow(1, 2) #pow(2, 2)\n",
    "\n",
    "print(list(squares))"
   ]
  },
  {
   "cell_type": "markdown",
   "id": "dressed-collection",
   "metadata": {},
   "source": [
    "# itertools.combinations()"
   ]
  },
  {
   "cell_type": "code",
   "execution_count": 48,
   "id": "occasional-michael",
   "metadata": {},
   "outputs": [
    {
     "name": "stdout",
     "output_type": "stream",
     "text": [
      "[('a', 'b'), ('a', 'c'), ('a', 'd'), ('b', 'c'), ('b', 'd'), ('c', 'd')]\n"
     ]
    }
   ],
   "source": [
    "letters = ['a', 'b', 'c', 'd']\n",
    "numbers = [0, 1, 2, 3]\n",
    "names = ['Corey', 'Nicole', 'Bill']\n",
    "\n",
    "result = itertools.combinations(letters, 2)\n",
    "print(list(result))"
   ]
  },
  {
   "cell_type": "markdown",
   "id": "asian-instruction",
   "metadata": {},
   "source": [
    "# itertools.permutations()"
   ]
  },
  {
   "cell_type": "code",
   "execution_count": 49,
   "id": "compound-melissa",
   "metadata": {},
   "outputs": [
    {
     "name": "stdout",
     "output_type": "stream",
     "text": [
      "[('a', 'b'), ('a', 'c'), ('a', 'd'), ('b', 'a'), ('b', 'c'), ('b', 'd'), ('c', 'a'), ('c', 'b'), ('c', 'd'), ('d', 'a'), ('d', 'b'), ('d', 'c')]\n"
     ]
    }
   ],
   "source": [
    "letters = ['a', 'b', 'c', 'd']\n",
    "numbers = [0, 1, 2, 3]\n",
    "names = ['Corey', 'Nicole', 'Bill']\n",
    "\n",
    "result = itertools.permutations(letters, 2)\n",
    "print(list(result))"
   ]
  },
  {
   "cell_type": "markdown",
   "id": "hourly-church",
   "metadata": {},
   "source": [
    "# itertools.product()"
   ]
  },
  {
   "cell_type": "code",
   "execution_count": 55,
   "id": "bottom-arthur",
   "metadata": {},
   "outputs": [
    {
     "name": "stdout",
     "output_type": "stream",
     "text": [
      "[(0, 0), (0, 1), (0, 2), (0, 3), (0, 5), (1, 0), (1, 1), (1, 2), (1, 3), (1, 5), (2, 0), (2, 1), (2, 2), (2, 3), (2, 5), (3, 0), (3, 1), (3, 2), (3, 3), (3, 5), (5, 0), (5, 1), (5, 2), (5, 3), (5, 5)]\n"
     ]
    }
   ],
   "source": [
    "numbers = [0, 1, 2, 3, 5]\n",
    "\n",
    "result = itertools.product(numbers, repeat = 2)\n",
    "print(list(result))"
   ]
  },
  {
   "cell_type": "markdown",
   "id": "metropolitan-utilization",
   "metadata": {},
   "source": [
    "# itertools.chain()"
   ]
  },
  {
   "cell_type": "code",
   "execution_count": 58,
   "id": "accessory-category",
   "metadata": {},
   "outputs": [
    {
     "name": "stdout",
     "output_type": "stream",
     "text": [
      "['a', 'b', 'c', 'd', 0, 1, 2, 3, 'Corey', 'Nicole', 'Bill']\n"
     ]
    }
   ],
   "source": [
    "letters = ['a', 'b', 'c', 'd']\n",
    "numbers = [0, 1, 2, 3]\n",
    "names = ['Corey', 'Nicole', 'Bill']\n",
    "\n",
    "combined = itertools.chain(letters, numbers, names)\n",
    "\n",
    "print(list(combined))"
   ]
  },
  {
   "cell_type": "markdown",
   "id": "pending-particle",
   "metadata": {},
   "source": [
    "# itertools.islice()"
   ]
  },
  {
   "cell_type": "code",
   "execution_count": 79,
   "id": "thirty-injury",
   "metadata": {},
   "outputs": [
    {
     "name": "stdout",
     "output_type": "stream",
     "text": [
      "Date: 2018-11-08\n",
      "Author: Corey\n",
      "Description: This is a sample log file\n"
     ]
    }
   ],
   "source": [
    "letters = ['a', 'b', 'c', 'd']\n",
    "numbers = [0, 1, 2, 3]\n",
    "names = ['Corey', 'Nicole', 'Bill']\n",
    "\n",
    "result = itertools.islice(letters, 0, 3, 2)\n",
    "\n",
    "with open('test_0.log', 'r') as f:\n",
    "    header = itertools.islice(f, 3)\n",
    "    \n",
    "    for line in header:\n",
    "        print(line, end = \"\")\n",
    "        \n",
    "f.close()"
   ]
  },
  {
   "cell_type": "markdown",
   "id": "occupational-violin",
   "metadata": {},
   "source": [
    "# itertools.compress()"
   ]
  },
  {
   "cell_type": "code",
   "execution_count": 89,
   "id": "purple-youth",
   "metadata": {},
   "outputs": [
    {
     "name": "stdout",
     "output_type": "stream",
     "text": [
      "['b', 'd']\n"
     ]
    }
   ],
   "source": [
    "letters = ['a', 'b', 'c', 'd']\n",
    "numbers = [0, 1, 2, 3]\n",
    "names = ['Corey', 'Nicole', 'Bill']\n",
    "selectors = [False, True, False, True]\n",
    "\n",
    "result = itertools.compress(letters, selectors)\n",
    "print(list(result))"
   ]
  },
  {
   "cell_type": "markdown",
   "id": "broad-border",
   "metadata": {},
   "source": [
    "# itertools.filterfalse()"
   ]
  },
  {
   "cell_type": "code",
   "execution_count": 90,
   "id": "molecular-infrastructure",
   "metadata": {},
   "outputs": [
    {
     "name": "stdout",
     "output_type": "stream",
     "text": [
      "[1, 3]\n"
     ]
    }
   ],
   "source": [
    "def f(x):\n",
    "    return True if x % 2 == 0 else False\n",
    "\n",
    "numbers = [0, 1, 2, 3]\n",
    "\n",
    "result = itertools.filterfalse(f, numbers)\n",
    "print(list(result))"
   ]
  },
  {
   "cell_type": "markdown",
   "id": "buried-mineral",
   "metadata": {},
   "source": [
    "# itertools.dropwhile()"
   ]
  },
  {
   "cell_type": "code",
   "execution_count": 99,
   "id": "unusual-tongue",
   "metadata": {},
   "outputs": [
    {
     "name": "stdout",
     "output_type": "stream",
     "text": [
      "[3, 2, 1, 0]\n"
     ]
    }
   ],
   "source": [
    "def f(x):\n",
    "    return True if x < 3 else False\n",
    "\n",
    "# drops when sees False\n",
    "numbers = [0, 1, 2, 3, 2, 1, 0]\n",
    "\n",
    "result = itertools.dropwhile(f, numbers)\n",
    "print(list(result))"
   ]
  },
  {
   "cell_type": "markdown",
   "id": "formal-congress",
   "metadata": {},
   "source": [
    "# itertools.takewhile()"
   ]
  },
  {
   "cell_type": "code",
   "execution_count": 101,
   "id": "multiple-inventory",
   "metadata": {},
   "outputs": [
    {
     "name": "stdout",
     "output_type": "stream",
     "text": [
      "[0, 1, 2] + [3, 2, 1, 0]\n"
     ]
    }
   ],
   "source": [
    "def f(x):\n",
    "    return True if x < 3 else False\n",
    "\n",
    "# drops when sees False\n",
    "numbers = [0, 1, 2, 3, 2, 1, 0]\n",
    "\n",
    "result1 = itertools.takewhile(f, numbers)\n",
    "result2 = itertools.dropwhile(f, numbers)\n",
    "print(list(result1), \"+\", list(result2))"
   ]
  },
  {
   "cell_type": "markdown",
   "id": "artificial-thanksgiving",
   "metadata": {},
   "source": [
    "# itertools.accumulate()"
   ]
  },
  {
   "cell_type": "code",
   "execution_count": 106,
   "id": "varying-manner",
   "metadata": {},
   "outputs": [
    {
     "name": "stdout",
     "output_type": "stream",
     "text": [
      "[1, 1, 2, 6, 12, 12, 120]\n"
     ]
    }
   ],
   "source": [
    "import operator\n",
    "\n",
    "letters = ['a', 'b', 'c', 'd']\n",
    "numbers = [1, 1, 2, 3, 2, 1, 10]\n",
    "names = ['Corey', 'Nicole', 'Bill']\n",
    "\n",
    "result = itertools.accumulate(numbers, operator.mul)\n",
    "print(list(result))"
   ]
  },
  {
   "cell_type": "markdown",
   "id": "romantic-jersey",
   "metadata": {},
   "source": [
    "# itertools.groupby()"
   ]
  },
  {
   "cell_type": "code",
   "execution_count": 112,
   "id": "signal-savings",
   "metadata": {},
   "outputs": [
    {
     "name": "stdout",
     "output_type": "stream",
     "text": [
      "NY 2\n",
      "CO 2\n",
      "WV 2\n",
      "NC 3\n"
     ]
    }
   ],
   "source": [
    "people = [\n",
    "    {\n",
    "        'name': 'John Doe',\n",
    "        'city': 'Gotham',\n",
    "        'state': 'NY'\n",
    "    },\n",
    "    {\n",
    "        'name': 'Jane Doe',\n",
    "        'city': 'Kings Landing',\n",
    "        'state': 'NY'\n",
    "    },\n",
    "    {\n",
    "        'name': 'Corey Schafer',\n",
    "        'city': 'Boulder',\n",
    "        'state': 'CO'\n",
    "    },\n",
    "    {\n",
    "        'name': 'Al Einstein',\n",
    "        'city': 'Denver',\n",
    "        'state': 'CO'\n",
    "    },\n",
    "    {\n",
    "        'name': 'John Henry',\n",
    "        'city': 'Hinton',\n",
    "        'state': 'WV'\n",
    "    },\n",
    "    {\n",
    "        'name': 'Randy Moss',\n",
    "        'city': 'Rand',\n",
    "        'state': 'WV'\n",
    "    },\n",
    "    {\n",
    "        'name': 'Nicole K',\n",
    "        'city': 'Asheville',\n",
    "        'state': 'NC'\n",
    "    },\n",
    "    {\n",
    "        'name': 'Jim Doe',\n",
    "        'city': 'Charlotte',\n",
    "        'state': 'NC'\n",
    "    },\n",
    "    {\n",
    "        'name': 'Jane Taylor',\n",
    "        'city': 'Faketown',\n",
    "        'state': 'NC'\n",
    "    }\n",
    "]\n",
    "\n",
    "def get_state(person):\n",
    "    return person['state']\n",
    "\n",
    "person_group = itertools.groupby(people, get_state)\n",
    "\n",
    "for key, group in person_group:\n",
    "    print(key, len(list(group)))"
   ]
  },
  {
   "cell_type": "markdown",
   "id": "piano-discrimination",
   "metadata": {},
   "source": [
    "# itertools.tee()"
   ]
  },
  {
   "cell_type": "code",
   "execution_count": 115,
   "id": "operational-receptor",
   "metadata": {},
   "outputs": [
    {
     "name": "stdout",
     "output_type": "stream",
     "text": [
      "[]\n"
     ]
    }
   ],
   "source": [
    "copy1, copy2 = itertools.tee(person_group)\n",
    "\n",
    "print(list(copy2))"
   ]
  },
  {
   "cell_type": "code",
   "execution_count": null,
   "id": "elementary-operations",
   "metadata": {},
   "outputs": [],
   "source": []
  }
 ],
 "metadata": {
  "kernelspec": {
   "display_name": "Python 3",
   "language": "python",
   "name": "python3"
  },
  "language_info": {
   "codemirror_mode": {
    "name": "ipython",
    "version": 3
   },
   "file_extension": ".py",
   "mimetype": "text/x-python",
   "name": "python",
   "nbconvert_exporter": "python",
   "pygments_lexer": "ipython3",
   "version": "3.8.5"
  }
 },
 "nbformat": 4,
 "nbformat_minor": 5
}
