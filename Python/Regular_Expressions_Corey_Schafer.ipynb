{
 "cells": [
  {
   "cell_type": "code",
   "execution_count": 140,
   "id": "b5a5968d",
   "metadata": {},
   "outputs": [],
   "source": [
    "import re\n",
    "\n",
    "def printIter(itr):\n",
    "    for i in itr:\n",
    "        print(i) "
   ]
  },
  {
   "cell_type": "code",
   "execution_count": 141,
   "id": "9786d544",
   "metadata": {},
   "outputs": [],
   "source": [
    "#  .       - Any Character Except New Line\n",
    "#  \\d      - Digit (0-9)\n",
    "#  \\D      - Not a Digit (0-9)\n",
    "#  \\w      - Word Character (a-z, A-Z, 0-9, _)\n",
    "#  \\W      - Not a Word Character\n",
    "#  \\s      - Whitespace (space, tab, newline)\n",
    "#  \\S      - Not Whitespace (space, tab, newline)\n",
    "\n",
    "#  \\b      - Word Boundary, like [ ] in math, but with words\n",
    "#  \\B      - Not a Word Boundary\n",
    "#  ^       - Beginning of a String\n",
    "#  $       - End of a String\n",
    "\n",
    "#  []      - Matches Characters in brackets\n",
    "#  [^ ]    - Matches Characters NOT in brackets\n",
    "#  |       - Either Or\n",
    "#  ( )     - Group\n",
    "\n",
    "#  Quantifiers:\n",
    "#  *       - 0 or More\n",
    "#  +       - 1 or More\n",
    "#  ?       - 0 or One\n",
    "#  {3}     - Exact Number\n",
    "#  {3,4}   - Range of Numbers (Minimum, Maximum)\n",
    "\n",
    "\n",
    "#  #### Sample Regexs ####\n",
    "\n",
    "#  [a-zA-Z0-9_.+-]+@[a-zA-Z0-9-]+\\.[a-zA-Z0-9-.]+"
   ]
  },
  {
   "cell_type": "code",
   "execution_count": 142,
   "id": "5c2439c2",
   "metadata": {},
   "outputs": [],
   "source": [
    "text_to_search = '''\n",
    "\n",
    "abcdefghijklmnopqurtuvwxyz\n",
    "ABCDEFGHIJKLMNOPQRSTUVWXYZ\n",
    "\n",
    "1234567890\n",
    "\n",
    "Ha HaHa\n",
    "\n",
    "MetaCharacters (Need to be escaped):\n",
    "\n",
    ". ^ $ * + ? { } [ ] \\ | ( )\n",
    "\n",
    "coreyms.com\n",
    "321-555-4321\n",
    "123.555.1234\n",
    "123*555*1234\n",
    "800-555-1234\n",
    "900-555-1234\n",
    "\n",
    "mat\n",
    "pat\n",
    "bat\n",
    "\n",
    "Mr. Schafer\n",
    "Mr Smith\n",
    "Ms Davis\n",
    "Mrs. Robinson\n",
    "Mr. T\n",
    "\n",
    "'''"
   ]
  },
  {
   "cell_type": "code",
   "execution_count": 143,
   "id": "e094a146",
   "metadata": {},
   "outputs": [
    {
     "name": "stdout",
     "output_type": "stream",
     "text": [
      "<re.Match object; span=(69, 71), match='Ha'>\n",
      "<re.Match object; span=(72, 74), match='Ha'>\n",
      "0\n",
      "\n",
      "Ha\n"
     ]
    }
   ],
   "source": [
    "pattern = re.compile(r'\\bHa')  # Making our string raw\n",
    "\n",
    "matches = pattern.finditer(text_to_search)  # finditer() - find only one pattern in All text \n",
    "                                            # and return iterator\n",
    "printIter(matches)\n",
    "    \n",
    "print(text_to_search[66:71])"
   ]
  },
  {
   "cell_type": "code",
   "execution_count": 144,
   "id": "d16f3405",
   "metadata": {},
   "outputs": [
    {
     "name": "stdout",
     "output_type": "stream",
     "text": [
      "<re.Match object; span=(0, 5), match='Start'>\n",
      "<re.Match object; span=(41, 44), match='end'>\n"
     ]
    }
   ],
   "source": [
    "pattern = re.compile(r'^Start')  # ^ - said, that we looking for start on line and then word = Start\n",
    "\n",
    "sentence = 'Start a sentence and then bring it to an end'\n",
    "\n",
    "matches = pattern.finditer(sentence)  \n",
    "\n",
    "printIter(matches)\n",
    "\n",
    "pattern = re.compile(r'end$')  # ^ - said, that we looking for end on line and previous word = Start\n",
    "\n",
    "matches = pattern.finditer(sentence)  \n",
    "\n",
    "printIter(matches)"
   ]
  },
  {
   "cell_type": "code",
   "execution_count": 145,
   "id": "db99c7ec",
   "metadata": {},
   "outputs": [
    {
     "name": "stdout",
     "output_type": "stream",
     "text": [
      "<re.Match object; span=(157, 169), match='321-555-4321'>\n",
      "<re.Match object; span=(170, 182), match='123.555.1234'>\n",
      "<re.Match object; span=(183, 195), match='123*555*1234'>\n",
      "<re.Match object; span=(196, 208), match='800-555-1234'>\n",
      "<re.Match object; span=(209, 221), match='900-555-1234'>\n"
     ]
    }
   ],
   "source": [
    "pattern = re.compile(r'\\d{3}.\\d{3}.\\d{4}')  # we find 3 digits in a row # Dot - means all signs\n",
    "\n",
    "matches = pattern.finditer(text_to_search)  \n",
    "\n",
    "printIter(matches)"
   ]
  },
  {
   "cell_type": "code",
   "execution_count": 146,
   "id": "107bf945",
   "metadata": {},
   "outputs": [
    {
     "name": "stdout",
     "output_type": "stream",
     "text": [
      "<re.Match object; span=(196, 208), match='800-555-1234'>\n",
      "<re.Match object; span=(209, 221), match='900-555-1234'>\n"
     ]
    }
   ],
   "source": [
    "pattern = re.compile(r'[89]00[.-]\\d\\d\\d[.-]\\d\\d\\d\\d')  # we find 3 digits in a row # Dot - means all signs\n",
    "\n",
    "# with open(\"./Files/data_for_ReGex.txt\", \"r\") as f:\n",
    "#     contents = f.read()\n",
    "\n",
    "#     matches = pattern.finditer(contents)\n",
    "    \n",
    "#     printIter(matches)\n",
    "\n",
    "matches = pattern.finditer(text_to_search)\n",
    "    \n",
    "printIter(matches)"
   ]
  },
  {
   "cell_type": "code",
   "execution_count": 147,
   "id": "5f2d8dd3",
   "metadata": {},
   "outputs": [
    {
     "name": "stdout",
     "output_type": "stream",
     "text": [
      "<re.Match object; span=(223, 226), match='mat'>\n",
      "<re.Match object; span=(227, 230), match='pat'>\n"
     ]
    }
   ],
   "source": [
    "pattern = re.compile(r'[^b]at')\n",
    "\n",
    "matches = pattern.finditer(text_to_search)\n",
    "    \n",
    "printIter(matches)"
   ]
  },
  {
   "cell_type": "code",
   "execution_count": 148,
   "id": "4862dde8",
   "metadata": {},
   "outputs": [
    {
     "name": "stdout",
     "output_type": "stream",
     "text": [
      "<re.Match object; span=(236, 247), match='Mr. Schafer'>\n",
      "<re.Match object; span=(248, 256), match='Mr Smith'>\n",
      "<re.Match object; span=(257, 265), match='Ms Davis'>\n",
      "<re.Match object; span=(266, 279), match='Mrs. Robinson'>\n",
      "<re.Match object; span=(280, 285), match='Mr. T'>\n"
     ]
    }
   ],
   "source": [
    "pattern = re.compile(r'M(r|s|rs)\\.?\\s[A-Z]\\w*')\n",
    "\n",
    "matches = pattern.finditer(text_to_search)\n",
    "    \n",
    "printIter(matches)"
   ]
  },
  {
   "cell_type": "code",
   "execution_count": 149,
   "id": "46ab268b",
   "metadata": {},
   "outputs": [
    {
     "name": "stdout",
     "output_type": "stream",
     "text": [
      "<re.Match object; span=(1, 24), match='CoreyMSchafer@gmail.com'>\n",
      "<re.Match object; span=(25, 53), match='corey.schafer@university.edu'>\n",
      "<re.Match object; span=(54, 83), match='corey-321-schafer@my-work.net'>\n"
     ]
    }
   ],
   "source": [
    "emails = '''\n",
    "CoreyMSchafer@gmail.com\n",
    "corey.schafer@university.edu\n",
    "corey-321-schafer@my-work.net\n",
    "'''\n",
    "\n",
    "pattern = re.compile(r'[a-zA-Z0-9_.+-]+@[a-zA-Z0-9-]+\\.[a-zA-Z0-9-.]+')\n",
    "\n",
    "matches = pattern.finditer(emails)\n",
    "\n",
    "printIter(matches)"
   ]
  },
  {
   "cell_type": "code",
   "execution_count": 150,
   "id": "df9139d6",
   "metadata": {},
   "outputs": [
    {
     "name": "stdout",
     "output_type": "stream",
     "text": [
      "\n",
      "google.com\n",
      "coreyms.com\n",
      "youtube.com\n",
      "nasa.gov\n",
      "\n"
     ]
    }
   ],
   "source": [
    "urls = '''\n",
    "https://www.google.com\n",
    "http://coreyms.com\n",
    "https://youtube.com\n",
    "https://www.nasa.gov\n",
    "'''\n",
    "\n",
    "pattern = re.compile(r'https?://(www\\.)?(\\w+)(\\.\\w+)')\n",
    "\n",
    "subbed_urls = pattern.sub(r'\\2\\3', urls) # sub() -> replaces urls that fits to pattern\n",
    "\n",
    "print(subbed_urls)"
   ]
  },
  {
   "cell_type": "code",
   "execution_count": 151,
   "id": "dfdb55d4",
   "metadata": {},
   "outputs": [
    {
     "name": "stdout",
     "output_type": "stream",
     "text": [
      "['Mr', 'Mr', 'Ms', 'Mrs', 'Mr']\n"
     ]
    }
   ],
   "source": [
    "pattern = re.compile(r'(Mr|Ms|Mrs)\\.?\\s[A-Z]\\w*')\n",
    "\n",
    "matches = pattern.findall(text_to_search) # findall() -> finds all pattern in all text\n",
    "\n",
    "print(matches)"
   ]
  },
  {
   "cell_type": "code",
   "execution_count": 152,
   "id": "53f9f234",
   "metadata": {},
   "outputs": [
    {
     "name": "stdout",
     "output_type": "stream",
     "text": [
      "<re.Match object; span=(0, 5), match='Start'>\n"
     ]
    }
   ],
   "source": [
    "sentence = 'Start a sentence ANd then bring it to an end AND the begining'\n",
    "\n",
    "pattern = re.compile(r'S\\w*')\n",
    "\n",
    "matches = pattern.match(sentence) # match() -> finds matches by pattern only in begining\n",
    "\n",
    "print(matches)"
   ]
  },
  {
   "cell_type": "code",
   "execution_count": 153,
   "id": "500a1449",
   "metadata": {},
   "outputs": [
    {
     "name": "stdout",
     "output_type": "stream",
     "text": [
      "<re.Match object; span=(17, 20), match='ANd'>\n"
     ]
    }
   ],
   "source": [
    "pattern = re.compile(r'and', re.IGNORECASE)  # <-- Small of re.IGNORECASE is re.I\n",
    "\n",
    "matches = pattern.search(sentence) # match() -> find what matches first by pattern in hole string\n",
    "\n",
    "print(matches)"
   ]
  }
 ],
 "metadata": {
  "kernelspec": {
   "display_name": "Python 3",
   "language": "python",
   "name": "python3"
  },
  "language_info": {
   "codemirror_mode": {
    "name": "ipython",
    "version": 3
   },
   "file_extension": ".py",
   "mimetype": "text/x-python",
   "name": "python",
   "nbconvert_exporter": "python",
   "pygments_lexer": "ipython3",
   "version": "3.8.10"
  }
 },
 "nbformat": 4,
 "nbformat_minor": 5
}
