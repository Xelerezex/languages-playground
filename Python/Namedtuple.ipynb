{
 "cells": [
  {
   "cell_type": "markdown",
   "id": "changing-equivalent",
   "metadata": {},
   "source": [
    "# Namedtuple"
   ]
  },
  {
   "cell_type": "code",
   "execution_count": 1,
   "id": "rolled-precipitation",
   "metadata": {},
   "outputs": [
    {
     "name": "stdout",
     "output_type": "stream",
     "text": [
      "(55, 155, 255)\n"
     ]
    }
   ],
   "source": [
    "from collections import namedtuple\n",
    "\n",
    "color = (55, 155, 255)\n",
    "\n",
    "print(color)"
   ]
  },
  {
   "cell_type": "code",
   "execution_count": 2,
   "id": "impressed-friday",
   "metadata": {},
   "outputs": [
    {
     "name": "stdout",
     "output_type": "stream",
     "text": [
      "55\n"
     ]
    }
   ],
   "source": [
    "color = {\"red\": 55, \"green\": 155, \"blue\": 255}\n",
    "\n",
    "print(color['red'])"
   ]
  },
  {
   "cell_type": "code",
   "execution_count": 3,
   "id": "olympic-argument",
   "metadata": {},
   "outputs": [
    {
     "name": "stdout",
     "output_type": "stream",
     "text": [
      "255\n"
     ]
    }
   ],
   "source": [
    "Color = namedtuple('Color', [\"red\", \"green\", \"blue\"])\n",
    "\n",
    "color = Color(blue = 55, green = 155,  red = 255) # <-- Same as color = Color(255, 155, 55)\n",
    "#color = Color(55, 155, 255)\n",
    "\n",
    "white = Color(255, 255, 255)\n",
    "\n",
    "print(white.green)"
   ]
  },
  {
   "cell_type": "code",
   "execution_count": null,
   "id": "flush-geometry",
   "metadata": {},
   "outputs": [],
   "source": []
  }
 ],
 "metadata": {
  "kernelspec": {
   "display_name": "Python 3",
   "language": "python",
   "name": "python3"
  },
  "language_info": {
   "codemirror_mode": {
    "name": "ipython",
    "version": 3
   },
   "file_extension": ".py",
   "mimetype": "text/x-python",
   "name": "python",
   "nbconvert_exporter": "python",
   "pygments_lexer": "ipython3",
   "version": "3.8.5"
  }
 },
 "nbformat": 4,
 "nbformat_minor": 5
}
