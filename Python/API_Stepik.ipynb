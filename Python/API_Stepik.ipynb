{
 "cells": [
  {
   "cell_type": "markdown",
   "metadata": {},
   "source": [
    "## Tutorial: Working with API, from [Stepik](https://stepik.org/lesson/24476/step/2?unit=6781)"
   ]
  },
  {
   "cell_type": "code",
   "execution_count": 21,
   "metadata": {},
   "outputs": [
    {
     "name": "stdout",
     "output_type": "stream",
     "text": [
      "City? Moscow\n",
      "Current temperature in Moscow is 29.15\n"
     ]
    }
   ],
   "source": [
    "import requests\n",
    "\n",
    "api_url = 'https://api.openweathermap.org/data/2.5/weather'\n",
    "\n",
    "city = input(\"City? \")\n",
    "\n",
    "params = {\n",
    "    'q': city,\n",
    "    'appid': 'fe6c9ac08e96ecdd33f559f07bc59da7',\n",
    "    'units': 'metric'\n",
    "}\n",
    "\n",
    "res = requests.get(api_url, params=params)\n",
    "# print(res.status_code)\n",
    "# print(res.headers['Content-Type'])\n",
    "# print(res.json())\n",
    "\n",
    "data = res.json()\n",
    "template = 'Current temperature in {} is {}'.format(city, data['main']['temp'])\n",
    "print(template)"
   ]
  },
  {
   "cell_type": "code",
   "execution_count": null,
   "metadata": {},
   "outputs": [],
   "source": []
  }
 ],
 "metadata": {
  "kernelspec": {
   "display_name": "Python 3",
   "language": "python",
   "name": "python3"
  },
  "language_info": {
   "codemirror_mode": {
    "name": "ipython",
    "version": 3
   },
   "file_extension": ".py",
   "mimetype": "text/x-python",
   "name": "python",
   "nbconvert_exporter": "python",
   "pygments_lexer": "ipython3",
   "version": "3.8.3"
  }
 },
 "nbformat": 4,
 "nbformat_minor": 4
}
