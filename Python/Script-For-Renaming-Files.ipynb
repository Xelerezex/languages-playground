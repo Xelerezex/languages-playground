{
 "cells": [
  {
   "cell_type": "code",
   "execution_count": 2,
   "id": "e1f83b17",
   "metadata": {},
   "outputs": [
    {
     "ename": "FileNotFoundError",
     "evalue": "[Errno 2] No such file or directory: './Files'",
     "output_type": "error",
     "traceback": [
      "\u001b[0;31m---------------------------------------------------------------------------\u001b[0m",
      "\u001b[0;31mFileNotFoundError\u001b[0m                         Traceback (most recent call last)",
      "\u001b[0;32m<ipython-input-2-80f8131bf6d2>\u001b[0m in \u001b[0;36m<module>\u001b[0;34m\u001b[0m\n\u001b[1;32m      1\u001b[0m \u001b[0;32mimport\u001b[0m \u001b[0mos\u001b[0m\u001b[0;34m\u001b[0m\u001b[0;34m\u001b[0m\u001b[0m\n\u001b[1;32m      2\u001b[0m \u001b[0;34m\u001b[0m\u001b[0m\n\u001b[0;32m----> 3\u001b[0;31m \u001b[0mos\u001b[0m\u001b[0;34m.\u001b[0m\u001b[0mchdir\u001b[0m\u001b[0;34m(\u001b[0m\u001b[0;34m'./Files'\u001b[0m\u001b[0;34m)\u001b[0m\u001b[0;34m\u001b[0m\u001b[0;34m\u001b[0m\u001b[0m\n\u001b[0m\u001b[1;32m      4\u001b[0m \u001b[0;34m\u001b[0m\u001b[0m\n\u001b[1;32m      5\u001b[0m \u001b[0mprint\u001b[0m\u001b[0;34m(\u001b[0m\u001b[0mos\u001b[0m\u001b[0;34m.\u001b[0m\u001b[0mgetcwd\u001b[0m\u001b[0;34m(\u001b[0m\u001b[0;34m)\u001b[0m\u001b[0;34m)\u001b[0m\u001b[0;34m\u001b[0m\u001b[0;34m\u001b[0m\u001b[0m\n",
      "\u001b[0;31mFileNotFoundError\u001b[0m: [Errno 2] No such file or directory: './Files'"
     ]
    }
   ],
   "source": [
    "import os\n",
    "\n",
    "os.chdir('/path/to/files/')\n",
    "\n",
    "# Am I in the correct directory?\n",
    "# print(os.getcwd())\n",
    "\n",
    "# print(dir(os))\n",
    "\n",
    "# Print all the current file names\n",
    "for f in os.listdir():\n",
    "    # If .DS_Store file is created, ignore it\n",
    "    if f == '.DS_Store':\n",
    "        continue\n",
    "\n",
    "    file_name, file_ext = os.path.splitext(f)\n",
    "    # print(file_name)\n",
    "\n",
    "    # One way to do this\n",
    "    f_title, f_course, f_number = file_name.split('-')\n",
    "\n",
    "    # print('{}-{}-{}{}'.format(f_number, f_course, f_title, file_ext))\n",
    "\n",
    "    # Need to remove whitespace\n",
    "    f_title = f_title.strip()\n",
    "    f_course = f_course.strip()\n",
    "    # f_number = f_number.strip()\n",
    "\n",
    "    # Want to remove the number sign?\n",
    "    # f_number = f_number.strip()[1:]\n",
    "\n",
    "    # One thing I noticed about this output is that if it was sorted by filename\n",
    "    # then the 1 and 10 would be next to each other. How do we fix this? One way we can fix this is to pad\n",
    "    # the numbers. So instead of 1, we'll make it 01. If we had hundreds of files then this would maybe need to be 001.\n",
    "    # We can do this in Python with zfill\n",
    "    f_number = f_number.strip()[1:].zfill(2)\n",
    "\n",
    "    # print('{}-{}-{}{}'.format(f_number, f_course, f_title, file_ext))\n",
    "\n",
    "    # You have the power to reformat in any way you see fit\n",
    "    print('{}-{}{}'.format(f_number, f_title.strip(), file_ext.strip()))\n",
    "\n",
    "    new_name = '{}-{}{}'.format(file_num, file_title, file_ext)\n",
    "\n",
    "    os.rename(fn, new_name)\n",
    "\n",
    "\n",
    "# print(len(os.listdir()))"
   ]
  },
  {
   "cell_type": "code",
   "execution_count": null,
   "id": "c9512258",
   "metadata": {},
   "outputs": [],
   "source": []
  }
 ],
 "metadata": {
  "kernelspec": {
   "display_name": "Python 3",
   "language": "python",
   "name": "python3"
  },
  "language_info": {
   "codemirror_mode": {
    "name": "ipython",
    "version": 3
   },
   "file_extension": ".py",
   "mimetype": "text/x-python",
   "name": "python",
   "nbconvert_exporter": "python",
   "pygments_lexer": "ipython3",
   "version": "3.8.10"
  }
 },
 "nbformat": 4,
 "nbformat_minor": 5
}
