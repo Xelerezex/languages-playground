{
 "cells": [
  {
   "cell_type": "code",
   "execution_count": 10,
   "id": "a289474a",
   "metadata": {},
   "outputs": [],
   "source": [
    "import datetime\n",
    "import calendar\n",
    "import math"
   ]
  },
  {
   "cell_type": "markdown",
   "id": "24abea5c",
   "metadata": {},
   "source": [
    "#### Example with credit card"
   ]
  },
  {
   "cell_type": "code",
   "execution_count": 11,
   "id": "ba0d1117",
   "metadata": {},
   "outputs": [
    {
     "name": "stdout",
     "output_type": "stream",
     "text": [
      "2021-07-01 4554.17\n",
      "2021-08-01 4103.51\n",
      "2021-09-01 3647.96\n",
      "2021-10-01 3187.48\n",
      "2021-11-01 2722.01\n",
      "2021-12-01 2251.5\n",
      "2022-01-01 1775.89\n",
      "2022-02-01 1295.13\n",
      "2022-03-01 809.16\n",
      "2022-04-01 317.93\n",
      "2022-05-01 0\n"
     ]
    }
   ],
   "source": [
    "balance = 5000\n",
    "interest_rate = 13 * .01\n",
    "monthly_payment = 500\n",
    "\n",
    "today = datetime.date.today()\n",
    "days_in_current_month = calendar.monthrange(today.year, today.month)[1]\n",
    "days_till_end_month = days_in_current_month - today.day\n",
    "\n",
    "start_date = today + datetime.timedelta(days=days_till_end_month + 1)\n",
    "end_date = start_date\n",
    "\n",
    "while balance > 0:\n",
    "    interest_charge = (interest_rate / 12) * balance\n",
    "    balance += interest_charge\n",
    "    balance -= monthly_payment\n",
    "\n",
    "    balance = 0 if balance < 0 else round(balance, 2)\n",
    "    \n",
    "    print(end_date, balance)\n",
    "    \n",
    "    days_in_current_month = calendar.monthrange(end_date.year, end_date.month)[1]\n",
    "    end_date = end_date + datetime.timedelta(days=days_in_current_month)\n"
   ]
  },
  {
   "cell_type": "markdown",
   "id": "7d0bd038",
   "metadata": {},
   "source": [
    "#### Example with losing pounds"
   ]
  },
  {
   "cell_type": "code",
   "execution_count": 12,
   "id": "b0239371",
   "metadata": {},
   "outputs": [
    {
     "name": "stdout",
     "output_type": "stream",
     "text": [
      "2021-12-27\n",
      "Reached goal in 27 weeks\n"
     ]
    }
   ],
   "source": [
    "current_weight = 220\n",
    "goal_weight = 180\n",
    "avg_lbs_week = 1.5\n",
    "\n",
    "start_date = datetime.date.today()\n",
    "end_date = start_date\n",
    "\n",
    "while current_weight > goal_weight:\n",
    "    end_date += datetime.timedelta(days=7)\n",
    "    current_weight -= avg_lbs_week\n",
    "\n",
    "print(end_date)\n",
    "print(f'Reached goal in {(end_date - start_date).days // 7} weeks')"
   ]
  },
  {
   "cell_type": "markdown",
   "id": "0e898ab8",
   "metadata": {},
   "source": [
    "#### Example with progress every day"
   ]
  },
  {
   "cell_type": "code",
   "execution_count": 13,
   "id": "69eb2917",
   "metadata": {},
   "outputs": [
    {
     "name": "stdout",
     "output_type": "stream",
     "text": [
      "2021-09-04\n"
     ]
    }
   ],
   "source": [
    "goal_subs = 100_000\n",
    "current_subs = 85_000\n",
    "subs_to_go = goal_subs - current_subs\n",
    "\n",
    "avg_subs_day = 200\n",
    "days_to_go = math.ceil(subs_to_go / avg_subs_day)\n",
    "\n",
    "today = datetime.date.today()\n",
    "\n",
    "print(today + datetime.timedelta(days=days_to_go))"
   ]
  }
 ],
 "metadata": {
  "kernelspec": {
   "display_name": "Python 3",
   "language": "python",
   "name": "python3"
  },
  "language_info": {
   "codemirror_mode": {
    "name": "ipython",
    "version": 3
   },
   "file_extension": ".py",
   "mimetype": "text/x-python",
   "name": "python",
   "nbconvert_exporter": "python",
   "pygments_lexer": "ipython3",
   "version": "3.8.10"
  }
 },
 "nbformat": 4,
 "nbformat_minor": 5
}
