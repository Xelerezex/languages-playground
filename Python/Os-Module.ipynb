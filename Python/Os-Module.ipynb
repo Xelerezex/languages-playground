{
 "cells": [
  {
   "cell_type": "code",
   "execution_count": 1,
   "id": "001fef4b",
   "metadata": {},
   "outputs": [],
   "source": [
    "import os"
   ]
  },
  {
   "cell_type": "code",
   "execution_count": 2,
   "id": "f7653282",
   "metadata": {},
   "outputs": [
    {
     "name": "stdout",
     "output_type": "stream",
     "text": [
      "/home/person/Документы/_CODING_/languages-playground/Python\n"
     ]
    }
   ],
   "source": [
    "print(os.getcwd())  # <-- Directory where we are now"
   ]
  },
  {
   "cell_type": "code",
   "execution_count": 4,
   "id": "af8e8e07",
   "metadata": {},
   "outputs": [
    {
     "name": "stdout",
     "output_type": "stream",
     "text": [
      "/home/person/Документы\n"
     ]
    }
   ],
   "source": [
    "os.chdir('/home/person/Документы')  # <-- Change directory\n",
    "print(os.getcwd())"
   ]
  },
  {
   "cell_type": "code",
   "execution_count": 5,
   "id": "36c70226",
   "metadata": {},
   "outputs": [
    {
     "name": "stdout",
     "output_type": "stream",
     "text": [
      "['_CODING_']\n"
     ]
    }
   ],
   "source": [
    "print(os.listdir())  # <-- Files in that dir"
   ]
  },
  {
   "cell_type": "code",
   "execution_count": 7,
   "id": "ebefd15f",
   "metadata": {},
   "outputs": [],
   "source": [
    "# os.makedir('some_stuff/')\n",
    "# os.makedirs('some_stuff/file')  # <-- MAking directories"
   ]
  },
  {
   "cell_type": "code",
   "execution_count": 8,
   "id": "4787576e",
   "metadata": {},
   "outputs": [],
   "source": [
    "# os.rmdir('some_stuff/')\n",
    "# os.removedirs('some_stuff/file')  # <-- Remove directories"
   ]
  },
  {
   "cell_type": "code",
   "execution_count": 9,
   "id": "77b8047d",
   "metadata": {},
   "outputs": [],
   "source": [
    "# os.rename('test.txt', 'demo.txt')  # <-- Rename directory"
   ]
  },
  {
   "cell_type": "code",
   "execution_count": 15,
   "id": "941f2462",
   "metadata": {},
   "outputs": [
    {
     "name": "stdout",
     "output_type": "stream",
     "text": [
      "os.stat_result(st_mode=16877, st_ino=11931789, st_dev=64769, st_nlink=8, st_uid=1000, st_gid=1000, st_size=4096, st_atime=1623838127, st_mtime=1622197489, st_ctime=1622197489) \n",
      "\n",
      "2021-05-28 13:24:49.320667\n"
     ]
    }
   ],
   "source": [
    "print(os.stat('_CODING_'), '\\n')  # <-- Stats\n",
    "\n",
    "from datetime import datetime\n",
    "\n",
    "mod_time = os.stat('_CODING_').st_mtime\n",
    "print(datetime.fromtimestamp(mod_time))  # <-- Normal View of time"
   ]
  },
  {
   "cell_type": "code",
   "execution_count": null,
   "id": "cc807864",
   "metadata": {},
   "outputs": [],
   "source": []
  }
 ],
 "metadata": {
  "kernelspec": {
   "display_name": "Python 3",
   "language": "python",
   "name": "python3"
  },
  "language_info": {
   "codemirror_mode": {
    "name": "ipython",
    "version": 3
   },
   "file_extension": ".py",
   "mimetype": "text/x-python",
   "name": "python",
   "nbconvert_exporter": "python",
   "pygments_lexer": "ipython3",
   "version": "3.8.10"
  }
 },
 "nbformat": 4,
 "nbformat_minor": 5
}
