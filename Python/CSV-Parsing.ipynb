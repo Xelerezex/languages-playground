{
 "cells": [
  {
   "cell_type": "code",
   "execution_count": 1,
   "id": "c2d1b883",
   "metadata": {},
   "outputs": [],
   "source": [
    "import csv"
   ]
  },
  {
   "cell_type": "code",
   "execution_count": 13,
   "id": "7fa7aacf",
   "metadata": {},
   "outputs": [],
   "source": [
    "with open('./Files/names.csv', 'r') as csv_file:\n",
    "    csv_reader = csv.reader(csv_file)\n",
    "    \n",
    "    with open('./Files/new_names.csv', 'w') as new_file:\n",
    "        csv_writer = csv.writer(new_file, delimiter='+')\n",
    "    \n",
    "        for line in csv_reader:\n",
    "            csv_writer.writerow(line)"
   ]
  },
  {
   "cell_type": "code",
   "execution_count": 16,
   "id": "4fc7d402",
   "metadata": {},
   "outputs": [],
   "source": [
    "with open('./Files/names.csv', 'r') as csv_file:\n",
    "    csv_reader = csv.DictReader(csv_file)\n",
    "    \n",
    "    with open('./Files/new_names.csv', 'w') as new_file:\n",
    "        fieldnames = ['first_name', 'last_name', 'email']\n",
    "        csv_writer = csv.DictWriter(new_file, fieldnames=fieldnames, delimiter='\\t')\n",
    "        \n",
    "        csv_writer.writeheader()\n",
    "        \n",
    "        for line in csv_reader:\n",
    "            csv_writer.writerow(line)"
   ]
  },
  {
   "cell_type": "markdown",
   "id": "b3e47b37",
   "metadata": {},
   "source": [
    "#### Parse CSV to HTML"
   ]
  },
  {
   "cell_type": "code",
   "execution_count": null,
   "id": "b08c79cd",
   "metadata": {},
   "outputs": [],
   "source": [
    "import csv\n",
    "\n",
    "html_output = ''\n",
    "names = []\n",
    "\n",
    "with open('patrons.csv', 'r') as data_file:\n",
    "    csv_data = csv.DictReader(data_file)\n",
    "\n",
    "    # We don't want first line of bad data\n",
    "    next(csv_data)\n",
    "\n",
    "    for line in csv_data:\n",
    "        if line['FirstName'] == 'No Reward':\n",
    "            break\n",
    "        names.append(f\"{line['FirstName']} {line['LastName']}\")\n",
    "\n",
    "html_output += f'<p>There are currently {len(names)} public contributors. Thank You!</p>'\n",
    "\n",
    "html_output += '\\n<ul>'\n",
    "\n",
    "for name in names:\n",
    "    html_output += f'\\n\\t<li>{name}</li>'\n",
    "\n",
    "html_output += '\\n</ul>'\n",
    "\n",
    "print(html_output)"
   ]
  }
 ],
 "metadata": {
  "kernelspec": {
   "display_name": "Python 3",
   "language": "python",
   "name": "python3"
  },
  "language_info": {
   "codemirror_mode": {
    "name": "ipython",
    "version": 3
   },
   "file_extension": ".py",
   "mimetype": "text/x-python",
   "name": "python",
   "nbconvert_exporter": "python",
   "pygments_lexer": "ipython3",
   "version": "3.8.10"
  }
 },
 "nbformat": 4,
 "nbformat_minor": 5
}
