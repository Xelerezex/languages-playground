{
 "cells": [
  {
   "cell_type": "markdown",
   "id": "8ef1203a",
   "metadata": {},
   "source": [
    "#### Context Manager Class"
   ]
  },
  {
   "cell_type": "code",
   "execution_count": 4,
   "id": "3c52b77b",
   "metadata": {},
   "outputs": [
    {
     "name": "stdout",
     "output_type": "stream",
     "text": [
      "True\n"
     ]
    }
   ],
   "source": [
    "class Open_File():\n",
    "    \n",
    "    def __init__(self, filename, mode):\n",
    "        self.filename = filename\n",
    "        self.mode = mode\n",
    "    \n",
    "    def __enter__(self):\n",
    "        self.file = open(self.filename, self.mode)\n",
    "        return self.file\n",
    "        \n",
    "    def __exit__(self, exc_type, exc_val, traceback):\n",
    "        self.file.close()\n",
    "        \n",
    "with Open_File('./Files/sample_with.txt', 'w') as f:\n",
    "    f.write('Testing')\n",
    "    \n",
    "print(f.closed)"
   ]
  },
  {
   "cell_type": "markdown",
   "id": "afae2f23",
   "metadata": {},
   "source": [
    " ### Context Manager Function"
   ]
  },
  {
   "cell_type": "code",
   "execution_count": 16,
   "id": "3749515a",
   "metadata": {},
   "outputs": [
    {
     "name": "stdout",
     "output_type": "stream",
     "text": [
      "True\n"
     ]
    }
   ],
   "source": [
    "from contextlib import contextmanager\n",
    "\n",
    "#conda install -c anaconda contextlib[12] \n",
    "\n",
    "@contextmanager\n",
    "def open_file(file, mode):\n",
    "    try:\n",
    "        f = open(file, mode)\n",
    "        yield f\n",
    "    finally:\n",
    "        f.close()\n",
    "    \n",
    "with open_file('sample.txt', 'w') as f:\n",
    "    f.write('Lorem ipsum dolor sit amen, consectetur adipiscing elit.')\n",
    "    \n",
    "print(f.closed)"
   ]
  },
  {
   "cell_type": "markdown",
   "id": "1739acb3",
   "metadata": {},
   "source": [
    "#### Another example:"
   ]
  },
  {
   "cell_type": "code",
   "execution_count": null,
   "id": "303d1fd2",
   "metadata": {},
   "outputs": [],
   "source": [
    "import os\n",
    "from contextlib import contextmanager\n",
    "\n",
    "\n",
    "@contextmanager\n",
    "def change_dir(destination):\n",
    "    try:\n",
    "        cwd = os.getcwd()\n",
    "        os.chdir(destination)\n",
    "        yield\n",
    "    finally:\n",
    "        os.chdir(cwd)\n",
    "\n",
    "\n",
    "with change_dir('Sample-Dir-One'):\n",
    "    print(os.listdir())\n",
    "\n",
    "with change_dir('Sample-Dir-Two'):\n",
    "    print(os.listdir())"
   ]
  }
 ],
 "metadata": {
  "kernelspec": {
   "display_name": "Python 3",
   "language": "python",
   "name": "python3"
  },
  "language_info": {
   "codemirror_mode": {
    "name": "ipython",
    "version": 3
   },
   "file_extension": ".py",
   "mimetype": "text/x-python",
   "name": "python",
   "nbconvert_exporter": "python",
   "pygments_lexer": "ipython3",
   "version": "3.8.10"
  }
 },
 "nbformat": 4,
 "nbformat_minor": 5
}
