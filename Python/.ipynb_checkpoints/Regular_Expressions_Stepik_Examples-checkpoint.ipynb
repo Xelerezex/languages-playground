{
 "cells": [
  {
   "cell_type": "markdown",
   "id": "92f82afa",
   "metadata": {},
   "source": [
    "# Regular Expressions"
   ]
  },
  {
   "cell_type": "markdown",
   "id": "11b8fac5",
   "metadata": {},
   "source": [
    "## Information from the [course](https://stepik.org/lesson/24470/step/1?unit=6776) on [stepik](https://stepik.org)"
   ]
  },
  {
   "cell_type": "code",
   "execution_count": 2,
   "id": "9b35a55f",
   "metadata": {},
   "outputs": [
    {
     "name": "stdout",
     "output_type": "stream",
     "text": [
      "Bye, \\n we want to \\t\n"
     ]
    }
   ],
   "source": [
    "# Raw string:\n",
    "string = r'Bye, \\n we want to \\t'\n",
    "print(string)"
   ]
  },
  {
   "cell_type": "code",
   "execution_count": 3,
   "id": "e8143e48",
   "metadata": {},
   "outputs": [
    {
     "name": "stdout",
     "output_type": "stream",
     "text": [
      "<function match at 0x7f4488ea7280>\n",
      "<function search at 0x7f4488e68160>\n",
      "<function findall at 0x7f4488e683a0>\n",
      "<function sub at 0x7f4488e681f0>\n"
     ]
    }
   ],
   "source": [
    "# Module of ReGex\n",
    "import re\n",
    "\n",
    "print(re.match)  # Take Pattern, take our string and find is our string fits our Pattern\n",
    "print(re.search)  # Take our string and find first sub-string that fits our Pattern\n",
    "print(re.findall)  # Finds all sub-strings which fits our Pattern\n",
    "print(re.sub)  # Can change all sub-strings that fits our Pattern, by smth else"
   ]
  },
  {
   "cell_type": "markdown",
   "id": "7b37c9ea",
   "metadata": {},
   "source": [
    "### Example 0:"
   ]
  },
  {
   "cell_type": "code",
   "execution_count": 4,
   "id": "b44107d4",
   "metadata": {},
   "outputs": [
    {
     "name": "stdout",
     "output_type": "stream",
     "text": [
      "<re.Match object; span=(0, 3), match='abc'>\n",
      "None\n"
     ]
    }
   ],
   "source": [
    "pattern = r'abc'\n",
    "string = 'abcd'\n",
    "match_object = re.match(pattern, string)\n",
    "print(match_object) # <re.Match object; span=(0, 3), match='abc'> match - what 'word' equals pattern, span - where\n",
    "                    # exactly our match at string\n",
    "    \n",
    "pattern = r'abc'\n",
    "string = 'babc'\n",
    "match_object = re.match(pattern, string)\n",
    "print(match_object) # No match - going on prefix"
   ]
  },
  {
   "cell_type": "code",
   "execution_count": 5,
   "id": "c33573d9",
   "metadata": {},
   "outputs": [
    {
     "name": "stdout",
     "output_type": "stream",
     "text": [
      "<re.Match object; span=(1, 4), match='abc'>\n"
     ]
    }
   ],
   "source": [
    "pattern = r'abc'\n",
    "string = 'babc'\n",
    "match_object = re.search(pattern, string)\n",
    "print(match_object)"
   ]
  },
  {
   "cell_type": "code",
   "execution_count": 6,
   "id": "30b227c7",
   "metadata": {},
   "outputs": [],
   "source": [
    "# [] - for set of all meta-symbols "
   ]
  },
  {
   "cell_type": "code",
   "execution_count": 7,
   "id": "75c777b1",
   "metadata": {},
   "outputs": [
    {
     "name": "stdout",
     "output_type": "stream",
     "text": [
      "<re.Match object; span=(0, 3), match='abc'>\n",
      "<re.Match object; span=(0, 3), match='aac'>\n",
      "<re.Match object; span=(0, 3), match='acc'>\n",
      "None\n",
      "None\n"
     ]
    }
   ],
   "source": [
    "pattern = r'a[abc]c'\n",
    "string = 'abc'\n",
    "match_object = re.match(pattern, string)\n",
    "print(match_object)\n",
    "\n",
    "pattern = r'a[abc]c'\n",
    "string = 'aac'\n",
    "match_object = re.match(pattern, string)\n",
    "print(match_object)\n",
    "\n",
    "pattern = r'a[abc]c'\n",
    "string = 'acc'\n",
    "match_object = re.match(pattern, string)\n",
    "print(match_object)\n",
    "\n",
    "pattern = r'a[abc]c' \n",
    "string = 'azc'      # Bcs z not in []\n",
    "match_object = re.match(pattern, string)\n",
    "print(match_object)\n",
    "\n",
    "pattern = r'a[abc]c' \n",
    "string = 'aad'      # And c != d\n",
    "match_object = re.match(pattern, string)\n",
    "print(match_object)"
   ]
  },
  {
   "cell_type": "code",
   "execution_count": 8,
   "id": "11fa1089",
   "metadata": {},
   "outputs": [
    {
     "name": "stdout",
     "output_type": "stream",
     "text": [
      "['abc', 'acc']\n",
      "abc, abc, abc\n"
     ]
    }
   ],
   "source": [
    "pattern = r'a[abc]c'\n",
    "\n",
    "string = 'abc, acc, aaz'\n",
    "all_inclusions = re.findall(pattern, string)\n",
    "print(all_inclusions)\n",
    "\n",
    "string = 'abc, acc, aac'\n",
    "fixed_typos = re.sub(pattern, \"abc\", string)\n",
    "print(fixed_typos) # That is copy of our string, but with changes by Pattern"
   ]
  },
  {
   "cell_type": "markdown",
   "id": "fddccf49",
   "metadata": {},
   "source": [
    "### Example 1:\n",
    "#### Other optentions of meta-symbols"
   ]
  },
  {
   "cell_type": "markdown",
   "id": "862a8e35",
   "metadata": {},
   "source": [
    "#### Meta-Symbols:           \n",
    "#### 0)   .\n",
    "#### 1)   ^\n",
    "#### 2)   \\$\n",
    "#### 3) * \n",
    "#### 4) + \n",
    "#### 5) ? \n",
    "#### 6) {  }\n",
    "#### 7) [  ]\n",
    "#### 8)  \\\n",
    "#### 9)  |\n",
    "#### 10)  (  )"
   ]
  },
  {
   "cell_type": "code",
   "execution_count": 10,
   "id": "0b5f0b52",
   "metadata": {},
   "outputs": [
    {
     "name": "stdout",
     "output_type": "stream",
     "text": [
      "<re.Match object; span=(12, 21), match=' english?'>\n"
     ]
    }
   ],
   "source": [
    "pattern = r' english\\?'\n",
    "string = \"Do you speak english?\"\n",
    "match = re.search(pattern, string)\n",
    "print(match)"
   ]
  },
  {
   "cell_type": "code",
   "execution_count": 12,
   "id": "64e16505",
   "metadata": {},
   "outputs": [
    {
     "name": "stdout",
     "output_type": "stream",
     "text": [
      "<re.Match object; span=(0, 3), match='abc'>\n",
      "['abc', 'acc', 'adc']\n",
      "abc, abc, aaz, abc\n"
     ]
    }
   ],
   "source": [
    "pattern = r'a[a-d]c'\n",
    "string = 'abc'\n",
    "match_object = re.match(pattern, string)\n",
    "print(match_object)\n",
    "\n",
    "\n",
    "string = 'abc, acc, aaz, adc'\n",
    "all_inclusions = re.findall(pattern, string)\n",
    "print(all_inclusions)\n",
    "\n",
    "\n",
    "fixed_typos = re.sub(pattern, \"abc\", string)\n",
    "print(fixed_typos)"
   ]
  },
  {
   "cell_type": "code",
   "execution_count": 13,
   "id": "80f2b3e1",
   "metadata": {},
   "outputs": [
    {
     "name": "stdout",
     "output_type": "stream",
     "text": [
      "['abc', 'acc', 'adc', 'aBc', 'azc']\n"
     ]
    }
   ],
   "source": [
    "pattern = r'a[a-zA-Z]c'\n",
    "string = 'abc, acc, aaz, adc, aBc, azc'\n",
    "all_inclusions = re.findall(pattern, string)\n",
    "print(all_inclusions)"
   ]
  },
  {
   "cell_type": "markdown",
   "id": "1cc297a0",
   "metadata": {},
   "source": [
    "#### symbol circumflex: ^"
   ]
  },
  {
   "cell_type": "code",
   "execution_count": 16,
   "id": "dd8db1dd",
   "metadata": {},
   "outputs": [
    {
     "name": "stdout",
     "output_type": "stream",
     "text": [
      "['a.c', 'a?c']\n"
     ]
    }
   ],
   "source": [
    "pattern = r'a[^a-zA-Z]c'\n",
    "string = 'abc, a.c, aaz, a?c, aBc, azc'\n",
    "all_inclusions = re.findall(pattern, string)\n",
    "print(all_inclusions)"
   ]
  },
  {
   "cell_type": "code",
   "execution_count": 23,
   "id": "238df39e",
   "metadata": {},
   "outputs": [],
   "source": [
    "# \\d ~ [0-9] -- Numbers \n",
    "# \\D ~ [^0-9] -- Not Numbers\n",
    "# \\s ~ [ \\t\\n\\r\\f\\v] -- Spaces symbols\n",
    "# \\S ~ [^ \\t\\n\\r\\f\\v] -- Not Spaces symbols\n",
    "# \\w ~ [a-zA-Z0-9_] -- Letters + numbers + _\n",
    "# \\W ~ [a-zA-Z0-9_] -- Not Letters + Numbers + _"
   ]
  },
  {
   "cell_type": "code",
   "execution_count": 24,
   "id": "39d638cf",
   "metadata": {},
   "outputs": [
    {
     "name": "stdout",
     "output_type": "stream",
     "text": [
      "['abc', 'aBc', 'azc']\n"
     ]
    }
   ],
   "source": [
    "pattern = r'a\\wc'\n",
    "string = 'abc, a.c, aaz, a?c, aBc, azc'\n",
    "all_inclusions = re.findall(pattern, string)\n",
    "print(all_inclusions)"
   ]
  },
  {
   "cell_type": "code",
   "execution_count": 25,
   "id": "d4b1935c",
   "metadata": {},
   "outputs": [
    {
     "name": "stdout",
     "output_type": "stream",
     "text": [
      "['abc', 'a.c', 'aBc', 'azc']\n"
     ]
    }
   ],
   "source": [
    "pattern = r'a[\\w.]c'\n",
    "string = 'abc, a.c, aaz, a?c, aBc, azc'\n",
    "all_inclusions = re.findall(pattern, string)\n",
    "print(all_inclusions)"
   ]
  },
  {
   "cell_type": "code",
   "execution_count": 26,
   "id": "6d47e94c",
   "metadata": {},
   "outputs": [
    {
     "name": "stdout",
     "output_type": "stream",
     "text": [
      "['abc', 'a.c', 'a?c', 'aBc', 'azc']\n"
     ]
    }
   ],
   "source": [
    "pattern = r'a.c'  # Dot - means ALL symbols\n",
    "string = 'abc, a.c, aaz, a?c, aBc, azc'\n",
    "all_inclusions = re.findall(pattern, string)\n",
    "print(all_inclusions)"
   ]
  },
  {
   "cell_type": "markdown",
   "id": "fa0f8a35",
   "metadata": {},
   "source": [
    "### Example 2:\n"
   ]
  },
  {
   "cell_type": "markdown",
   "id": "d39ce597",
   "metadata": {},
   "source": [
    "#### symbol star: *"
   ]
  },
  {
   "cell_type": "code",
   "execution_count": 40,
   "id": "f0c0f7cb",
   "metadata": {},
   "outputs": [
    {
     "name": "stdout",
     "output_type": "stream",
     "text": [
      "['aa', 'aba', 'abba', 'abbbbbbbbbbbba']\n"
     ]
    }
   ],
   "source": [
    "pattern = r'ab*a'  # All amount of b letter, like with abbbbbbbbbbbba will be work\n",
    "string = 'aa, aba, abba, abbbbbbbbbbbba'       # It is greedy meta-symbol. He returns the biggest amount of prefix\n",
    "all_inclusions = re.findall(pattern, string)\n",
    "print(all_inclusions)"
   ]
  },
  {
   "cell_type": "markdown",
   "id": "cb3d7099",
   "metadata": {},
   "source": [
    "#### symbol plus: +"
   ]
  },
  {
   "cell_type": "code",
   "execution_count": 30,
   "id": "490b70d6",
   "metadata": {},
   "outputs": [
    {
     "name": "stdout",
     "output_type": "stream",
     "text": [
      "['aba', 'abba', 'abbbbbbbbbbbba']\n"
     ]
    }
   ],
   "source": [
    "pattern = r'ab+a'  # More than zero amount of b letter, count(b) > 0\n",
    "string = 'aa, aba, abba, abbbbbbbbbbbba'    # It is greedy meta-symbol. He returns the biggest amount of prefix\n",
    "all_inclusions = re.findall(pattern, string)\n",
    "print(all_inclusions)"
   ]
  },
  {
   "cell_type": "markdown",
   "id": "af6a46ba",
   "metadata": {},
   "source": [
    "#### symbol question mark: ?"
   ]
  },
  {
   "cell_type": "code",
   "execution_count": 34,
   "id": "f0f78861",
   "metadata": {},
   "outputs": [
    {
     "name": "stdout",
     "output_type": "stream",
     "text": [
      "['aa', 'aba']\n"
     ]
    }
   ],
   "source": [
    "pattern = r'ab?a'  # Only zero, or only one b letter in text, count(b) >= 0, or count(b) == 0 \n",
    "string = 'aa, aba, abba, abbbbbbbbbbbba'\n",
    "all_inclusions = re.findall(pattern, string)\n",
    "print(all_inclusions)"
   ]
  },
  {
   "cell_type": "markdown",
   "id": "1f2d3f66",
   "metadata": {},
   "source": [
    "#### symbol curly bracket: { }"
   ]
  },
  {
   "cell_type": "code",
   "execution_count": 39,
   "id": "1e1c7eed",
   "metadata": {},
   "outputs": [
    {
     "name": "stdout",
     "output_type": "stream",
     "text": [
      "['abbbbbbbbbbbba']\n",
      "['aba', 'abba']\n"
     ]
    }
   ],
   "source": [
    "pattern = r'ab{12}a'  # Exactly that amount count(b) == 12\n",
    "string = 'aa, aba, abba, abbbbbbbbbbbba'\n",
    "all_inclusions = re.findall(pattern, string)\n",
    "print(all_inclusions)\n",
    "\n",
    "pattern = r'ab{1,2}a'  # Amount in given diaposon count(b) >= 1 and count(b) <= 2\n",
    "string = 'aa, aba, abba, abbbbbbbbbbbba'\n",
    "all_inclusions = re.findall(pattern, string)\n",
    "print(all_inclusions)"
   ]
  },
  {
   "cell_type": "markdown",
   "id": "34593518",
   "metadata": {},
   "source": [
    "#### Greedy way to find, of plus symbol (+):"
   ]
  },
  {
   "cell_type": "code",
   "execution_count": 44,
   "id": "9c1062f7",
   "metadata": {},
   "outputs": [
    {
     "name": "stdout",
     "output_type": "stream",
     "text": [
      "['abaaba']\n"
     ]
    }
   ],
   "source": [
    "pattern = r'a[ab]+a'\n",
    "string = 'abaaba'\n",
    "all_inclusions = re.findall(pattern, string)\n",
    "print(all_inclusions)"
   ]
  },
  {
   "cell_type": "markdown",
   "id": "474af178",
   "metadata": {},
   "source": [
    "#### Not Greedy way to find, of plus symbol (+):"
   ]
  },
  {
   "cell_type": "code",
   "execution_count": 46,
   "id": "d743294b",
   "metadata": {},
   "outputs": [
    {
     "name": "stdout",
     "output_type": "stream",
     "text": [
      "['aba', 'aba']\n"
     ]
    }
   ],
   "source": [
    "pattern = r'a[ab]+?a' # Now we should find the littlest sub-string \n",
    "string = 'abaaba'     # And regex gives us sub-strings\n",
    "all_inclusions = re.findall(pattern, string)\n",
    "print(all_inclusions)"
   ]
  },
  {
   "cell_type": "markdown",
   "id": "18168b3e",
   "metadata": {},
   "source": [
    "### Example 2:"
   ]
  },
  {
   "cell_type": "markdown",
   "id": "a40b1a60",
   "metadata": {},
   "source": [
    "#### symbol round bracket: (  ) --> Symbol of grouping"
   ]
  },
  {
   "cell_type": "markdown",
   "id": "6938c878",
   "metadata": {},
   "source": [
    "#### symbol vbar: |"
   ]
  },
  {
   "cell_type": "code",
   "execution_count": 57,
   "id": "9e7b1b33",
   "metadata": {},
   "outputs": [
    {
     "name": "stdout",
     "output_type": "stream",
     "text": [
      "<re.Match object; span=(0, 8), match='texttest'>\n"
     ]
    }
   ],
   "source": [
    "pattern = r'(test|text)*'  # Symbol | means or\n",
    "string = 'texttest'\n",
    "match = re.match(pattern, string)\n",
    "print(match)"
   ]
  },
  {
   "cell_type": "code",
   "execution_count": 64,
   "id": "45090b75",
   "metadata": {},
   "outputs": [
    {
     "name": "stdout",
     "output_type": "stream",
     "text": [
      "<re.Match object; span=(0, 12), match='testtexttest'>\n",
      "('testtexttest', None, 'test')\n"
     ]
    }
   ],
   "source": [
    "pattern = r'((abc)|(test|text)*)'  # Symbol | means or\n",
    "string = 'testtexttest'\n",
    "match = re.match(pattern, string)\n",
    "print(match)\n",
    "print(match.groups())"
   ]
  },
  {
   "cell_type": "code",
   "execution_count": 69,
   "id": "2090ac78",
   "metadata": {},
   "outputs": [
    {
     "name": "stdout",
     "output_type": "stream",
     "text": [
      "<re.Match object; span=(0, 9), match='Hello abc'>\n",
      "Hello abc\n",
      "abc\n"
     ]
    }
   ],
   "source": [
    "pattern = r\"Hello (abc|test)\"  # Symbol | means or\n",
    "string = \"Hello abc\"\n",
    "match = re.match(pattern, string)\n",
    "print(match)\n",
    "print(match.group(0))\n",
    "print(match.group(1))"
   ]
  },
  {
   "cell_type": "code",
   "execution_count": 76,
   "id": "1f763412",
   "metadata": {},
   "outputs": [
    {
     "name": "stdout",
     "output_type": "stream",
     "text": [
      "<re.Match object; span=(0, 9), match='test-test'>\n",
      "None\n"
     ]
    }
   ],
   "source": [
    "pattern = r\"(\\w+)-\\1\"  #  \\1 - we can added group, that we added earlier\n",
    "string = \"test-test chow-chow\"\n",
    "match = re.match(pattern, string)\n",
    "print(match)\n",
    "\n",
    "pattern = r\"(\\w+)-\\1\" # Output: None\n",
    "string = \"test-text chow-chow\"        # Bcs group (\\w+) do not equals group of word \n",
    "match = re.match(pattern, string) # text (but groups made by one rule: (\\w+))\n",
    "print(match)"
   ]
  },
  {
   "cell_type": "code",
   "execution_count": 72,
   "id": "1c581998",
   "metadata": {},
   "outputs": [],
   "source": [
    "# \\1 - group One, group of first open bracket\n",
    "# \\2 - second group\n",
    "# \\3 - third group"
   ]
  },
  {
   "cell_type": "code",
   "execution_count": 77,
   "id": "34c7220a",
   "metadata": {},
   "outputs": [
    {
     "name": "stdout",
     "output_type": "stream",
     "text": [
      "test chow\n"
     ]
    }
   ],
   "source": [
    "pattern = r\"(\\w+)-\\1\"\n",
    "string = \"test-test chow-chow\"\n",
    "duplicates = re.sub(pattern, r'\\1', string)\n",
    "print(duplicates)"
   ]
  },
  {
   "cell_type": "code",
   "execution_count": 80,
   "id": "847ddd4c",
   "metadata": {},
   "outputs": [
    {
     "name": "stdout",
     "output_type": "stream",
     "text": [
      "[('test-test', 'test'), ('chow-chow', 'chow')]\n"
     ]
    }
   ],
   "source": [
    "pattern = r\"((\\w+)-\\2)\"\n",
    "string = \"test-test chow-chow\"\n",
    "duplicates = re.findall(pattern, string)\n",
    "print(duplicates)"
   ]
  },
  {
   "cell_type": "markdown",
   "id": "60b3b65f",
   "metadata": {},
   "source": [
    "#### Example 3:"
   ]
  },
  {
   "cell_type": "code",
   "execution_count": 84,
   "id": "61ef283c",
   "metadata": {},
   "outputs": [
    {
     "name": "stdout",
     "output_type": "stream",
     "text": [
      "MAX_REPEAT 0 MAXREPEAT\n",
      "  SUBPATTERN 1 0 0\n",
      "    LITERAL 116\n",
      "    LITERAL 101\n",
      "LITERAL 120\n",
      "LITERAL 116\n",
      "\n",
      " 0. INFO 4 0b0 2 MAXREPEAT (to 5)\n",
      " 5: REPEAT 11 0 MAXREPEAT (to 17)\n",
      " 9.   MARK 0\n",
      "11.   LITERAL_UNI_IGNORE 0x74 ('t')\n",
      "13.   LITERAL_UNI_IGNORE 0x65 ('e')\n",
      "15.   MARK 1\n",
      "17: MAX_UNTIL\n",
      "18. LITERAL_UNI_IGNORE 0x78 ('x')\n",
      "20. LITERAL_UNI_IGNORE 0x74 ('t')\n",
      "22. SUCCESS\n",
      "<re.Match object; span=(0, 4), match='TEXT'>\n"
     ]
    }
   ],
   "source": [
    "x = re.match(r'(te)*xt', 'TEXT', re.IGNORECASE | re.DEBUG)\n",
    "print(x)"
   ]
  },
  {
   "cell_type": "code",
   "execution_count": 85,
   "id": "01c3b308",
   "metadata": {},
   "outputs": [
    {
     "name": "stdout",
     "output_type": "stream",
     "text": [
      "MAX_REPEAT 0 1\n",
      "  SUBPATTERN 1 0 0\n",
      "    LITERAL 116\n",
      "    LITERAL 101\n",
      "LITERAL 120\n",
      "LITERAL 116\n",
      "\n",
      " 0. INFO 4 0b0 2 4 (to 5)\n",
      " 5: REPEAT 11 0 1 (to 17)\n",
      " 9.   MARK 0\n",
      "11.   LITERAL_UNI_IGNORE 0x74 ('t')\n",
      "13.   LITERAL_UNI_IGNORE 0x65 ('e')\n",
      "15.   MARK 1\n",
      "17: MAX_UNTIL\n",
      "18. LITERAL_UNI_IGNORE 0x78 ('x')\n",
      "20. LITERAL_UNI_IGNORE 0x74 ('t')\n",
      "22. SUCCESS\n",
      "<re.Match object; span=(0, 4), match='TEXT'>\n"
     ]
    }
   ],
   "source": [
    "x = re.match(r'(te)?xt', 'TEXT', re.IGNORECASE | re.DEBUG)\n",
    "print(x)"
   ]
  },
  {
   "cell_type": "code",
   "execution_count": null,
   "id": "92d6442c",
   "metadata": {},
   "outputs": [],
   "source": []
  }
 ],
 "metadata": {
  "kernelspec": {
   "display_name": "Python 3",
   "language": "python",
   "name": "python3"
  },
  "language_info": {
   "codemirror_mode": {
    "name": "ipython",
    "version": 3
   },
   "file_extension": ".py",
   "mimetype": "text/x-python",
   "name": "python",
   "nbconvert_exporter": "python",
   "pygments_lexer": "ipython3",
   "version": "3.8.10"
  }
 },
 "nbformat": 4,
 "nbformat_minor": 5
}
