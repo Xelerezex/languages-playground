{
 "cells": [
  {
   "cell_type": "markdown",
   "id": "excess-sculpture",
   "metadata": {},
   "source": [
    "# First Class Function"
   ]
  },
  {
   "cell_type": "markdown",
   "id": "introductory-pollution",
   "metadata": {},
   "source": [
    "#### Make variable as function"
   ]
  },
  {
   "cell_type": "code",
   "execution_count": 38,
   "id": "eastern-retreat",
   "metadata": {},
   "outputs": [
    {
     "name": "stdout",
     "output_type": "stream",
     "text": [
      "<function square at 0x7f461039f280>\n",
      "36\n"
     ]
    }
   ],
   "source": [
    "def square(x):\n",
    "    return x * x\n",
    "\n",
    "f = square # After THIS we could treat our variable f as literally FUNCTION with body like func square\n",
    "\n",
    "print(square) \n",
    "print(f(6)) # <-- Work like function"
   ]
  },
  {
   "cell_type": "markdown",
   "id": "interpreted-stability",
   "metadata": {},
   "source": [
    "#### Throw function in function like variables"
   ]
  },
  {
   "cell_type": "code",
   "execution_count": 39,
   "id": "addressed-vancouver",
   "metadata": {},
   "outputs": [
    {
     "name": "stdout",
     "output_type": "stream",
     "text": [
      "[1, 8, 27, 64, 125, 216]\n"
     ]
    }
   ],
   "source": [
    "def my_map(func, arg_list): # <-- Map, from scratch to more understanding\n",
    "    result = []\n",
    "    for item in arg_list:\n",
    "        result.append(func(item))\n",
    "    return result\n",
    "\n",
    "def cube(x):\n",
    "    return x * x * x \n",
    "\n",
    "squares = my_map(cube, [1, 2, 3, 4, 5, 6])\n",
    "\n",
    "print(squares)"
   ]
  },
  {
   "cell_type": "markdown",
   "id": "certain-manufacturer",
   "metadata": {},
   "source": [
    "#### Return Function"
   ]
  },
  {
   "cell_type": "code",
   "execution_count": 40,
   "id": "injured-drink",
   "metadata": {},
   "outputs": [
    {
     "name": "stdout",
     "output_type": "stream",
     "text": [
      "Log: Hi!\n"
     ]
    }
   ],
   "source": [
    "def logger(msg): # <--- Enter main Func\n",
    "    \n",
    "    def log_message(): # <--- Creates temporary function\n",
    "        print('Log:', msg)\n",
    "        \n",
    "    return log_message # <--- RETURN temporary function\n",
    "\n",
    "log_hi = logger('Hi!') # <--- Makes from that func, with exactly that variable - A FUNCTION\n",
    "log_hi() # <--- Now that always works with 'Hi!' (It is called Closures)"
   ]
  },
  {
   "cell_type": "code",
   "execution_count": 41,
   "id": "normal-memphis",
   "metadata": {
    "scrolled": true
   },
   "outputs": [
    {
     "name": "stdout",
     "output_type": "stream",
     "text": [
      "<function html_tag.<locals>.wrap_text at 0x7f45fb7daee0>\n",
      "<h1>Test Headline!</h1>\n",
      "<h1>Another Headline!</h1>\n",
      "<p>Test Paragraph!</p>\n"
     ]
    }
   ],
   "source": [
    "def html_tag(tag):\n",
    "    \n",
    "    def wrap_text(msg):\n",
    "        print(f'<{tag}>{msg}</{tag}>')\n",
    "        \n",
    "    return wrap_text\n",
    "\n",
    "print_h1 = html_tag('h1') # <--- Smth like we gets tag (var)\n",
    "print(print_h1)\n",
    "print_h1('Test Headline!') # <--- Here we had tag & now gets msg, bcs it's avalible\n",
    "print_h1('Another Headline!')\n",
    "\n",
    "print_p = html_tag('p')\n",
    "print_p('Test Paragraph!')"
   ]
  },
  {
   "cell_type": "markdown",
   "id": "limited-anthony",
   "metadata": {},
   "source": [
    "# Closures"
   ]
  },
  {
   "cell_type": "code",
   "execution_count": 42,
   "id": "polish-people",
   "metadata": {},
   "outputs": [
    {
     "name": "stdout",
     "output_type": "stream",
     "text": [
      "Hi\n",
      "Hello\n"
     ]
    }
   ],
   "source": [
    "# Closure is an inner_function that remembers and has access to variables in the local scope which it was \n",
    "# created even after the outher_function has finished executing  \n",
    "\n",
    "def outher_function(msg):\n",
    "    message = msg\n",
    "    \n",
    "    def inner_function():\n",
    "        print(message)\n",
    "    return inner_function #inner_function()<-- Just print message, inner_function <-- allow to work with local var\n",
    "\n",
    "# print(outher_function())\n",
    "\n",
    "hi_func = outher_function('Hi')\n",
    "hello_func = outher_function('Hello') # A closure closes over the free variables from their enviroment and in this\n",
    "                                      # case msg would be that free variable \n",
    "\n",
    "hi_func()\n",
    "hello_func()"
   ]
  },
  {
   "cell_type": "markdown",
   "id": "lonely-knife",
   "metadata": {},
   "source": [
    "#### Usefull example"
   ]
  },
  {
   "cell_type": "code",
   "execution_count": 43,
   "id": "blond-wages",
   "metadata": {},
   "outputs": [
    {
     "name": "stdout",
     "output_type": "stream",
     "text": [
      "7\n",
      "2\n"
     ]
    }
   ],
   "source": [
    "import logging\n",
    "logging.basicConfig(filename = 'example.log', level = logging.INFO)\n",
    "\n",
    "def logger(func):\n",
    "    def log_func(*args):\n",
    "        logging.info(f'Running \"{func.__name__}\" with arguments {args}')\n",
    "        print(func(*args))\n",
    "    return log_func \n",
    "\n",
    "def add(x, y):\n",
    "    return x + y\n",
    "\n",
    "def sub(x, y):\n",
    "    return x - y\n",
    "\n",
    "add_logger = logger(add) # Analog of execution function\n",
    "sub_logger = logger(sub) # Smth like assigment of paranthesis\n",
    "\n",
    "add_logger(3, 4)\n",
    "sub_logger(5, 3)"
   ]
  },
  {
   "cell_type": "code",
   "execution_count": 44,
   "id": "private-entrepreneur",
   "metadata": {},
   "outputs": [],
   "source": [
    "# Summary:\n",
    "#     First-Class Function allow us treat functions like any other object. \n",
    "#     For example, we can pass functions as arguments to another function.\n",
    "#     We can return functions. And we can assign functions to variables.\n",
    "# \n",
    "#     Closures allow us to take advantage of first-class functions and return an inner function that\n",
    "#     remembers and has access to variables local to the scope in which they were created."
   ]
  },
  {
   "cell_type": "markdown",
   "id": "modern-cement",
   "metadata": {},
   "source": [
    "# Mutable & Immutable"
   ]
  },
  {
   "cell_type": "code",
   "execution_count": 45,
   "id": "uniform-somalia",
   "metadata": {},
   "outputs": [],
   "source": [
    "#     An immutable object is an object whose state cannot be modified after it is created.\n",
    "#     This is in contrast to a mutable object, which can be modified after it is created."
   ]
  },
  {
   "cell_type": "markdown",
   "id": "adverse-photographer",
   "metadata": {},
   "source": [
    "#### Immutable"
   ]
  },
  {
   "cell_type": "code",
   "execution_count": 46,
   "id": "voluntary-borough",
   "metadata": {},
   "outputs": [
    {
     "name": "stdout",
     "output_type": "stream",
     "text": [
      "cory\n",
      "Adress of a is 139938894894256\n",
      "vern\n",
      "Adress of a is 139938550000624\n",
      "False\n"
     ]
    }
   ],
   "source": [
    "a = 'cory'\n",
    "print(a)\n",
    "a1 = id(a)\n",
    "print(f'Adress of a is {id(a)}')\n",
    "\n",
    "a = 'vern' # <-- It Is not Modifing, it's creating new object\n",
    "# a[0] = 'C' # <-- Causes compilation error\n",
    "print(a)\n",
    "a2 = id(a)\n",
    "print(f'Adress of a is {id(a)}')\n",
    "print(a1 == a2)"
   ]
  },
  {
   "cell_type": "markdown",
   "id": "official-resource",
   "metadata": {},
   "source": [
    "#### Mutable"
   ]
  },
  {
   "cell_type": "code",
   "execution_count": 47,
   "id": "electrical-advisory",
   "metadata": {},
   "outputs": [
    {
     "name": "stdout",
     "output_type": "stream",
     "text": [
      "[1, 2, 3, 4, 5]\n",
      "adress of b is 139938551761472\n",
      "['C', 2, 3, 4, 5]\n",
      "adress of b is 139938551761472\n",
      "True\n"
     ]
    }
   ],
   "source": [
    "b = [1, 2, 3, 4, 5]\n",
    "print(b)\n",
    "b1 = id(b)\n",
    "print(f'adress of b is {id(b)}')\n",
    "\n",
    "b[0] = 'C' # <-- Change object state, and it is the same object\n",
    "print(b)\n",
    "b2 = id(b)\n",
    "print(f'adress of b is {id(b)}')\n",
    "print(b1 == b2)"
   ]
  },
  {
   "cell_type": "markdown",
   "id": "suffering-impression",
   "metadata": {},
   "source": [
    "#### Example"
   ]
  },
  {
   "cell_type": "code",
   "execution_count": 48,
   "id": "alpha-likelihood",
   "metadata": {},
   "outputs": [
    {
     "name": "stdout",
     "output_type": "stream",
     "text": [
      "adress of employee is 139938894563408\n",
      "adress of employee is 139938894488848\n",
      "adress of employee is 139938897105392\n",
      "adress of employee is 139938894423856\n",
      "adress of employee is 139938897233504\n",
      "<ul>\n",
      "\t<li>John</li>\n",
      "\t<li>Jane</li>\n",
      "\t<li>Girly</li>\n",
      "\t<li>Vivien</li>\n",
      "\t<li>Carlos</li>\n",
      "<ul>\n",
      "\n"
     ]
    }
   ],
   "source": [
    "employees = ['John', 'Jane', 'Girly', 'Vivien', 'Carlos']\n",
    "\n",
    "output = '<ul>\\n'\n",
    "\n",
    "for employee in employees:\n",
    "    output += f'\\t<li>{employee}</li>\\n'\n",
    "    print(f'adress of employee is {id(output)}')\n",
    "    \n",
    "output += '<ul>\\n'\n",
    "\n",
    "print(output)"
   ]
  },
  {
   "cell_type": "markdown",
   "id": "celtic-pathology",
   "metadata": {},
   "source": [
    "# Memoization"
   ]
  },
  {
   "cell_type": "code",
   "execution_count": 49,
   "id": "listed-spank",
   "metadata": {},
   "outputs": [],
   "source": [
    "#      Memoisation: Is an optimization technique used primarily to speed up computer programs by storing the \n",
    "#                   results of expensive function calls and returning the cached result when the same inputs\n",
    "#                   occur again"
   ]
  },
  {
   "cell_type": "markdown",
   "id": "affected-catalog",
   "metadata": {},
   "source": [
    "#### Expensive calling"
   ]
  },
  {
   "cell_type": "code",
   "execution_count": 50,
   "id": "cloudy-minister",
   "metadata": {},
   "outputs": [
    {
     "name": "stdout",
     "output_type": "stream",
     "text": [
      "Computing 4 ...\n",
      "16\n",
      "Computing 10 ...\n",
      "100\n",
      "Computing 4 ...\n",
      "16\n",
      "Computing 10 ...\n",
      "100\n",
      "Finished in 4.006 s.\n"
     ]
    }
   ],
   "source": [
    "import time \n",
    "\n",
    "t1 = time.time()\n",
    "\n",
    "def expensive_func(num):    \n",
    "    print(f\"Computing {num} ...\")\n",
    "    time.sleep(1)\n",
    "    result = num * num\n",
    "    return result\n",
    "\n",
    "result = expensive_func(4)\n",
    "print(result)\n",
    "\n",
    "result = expensive_func(10)\n",
    "print(result)\n",
    "                             # Concept is here, if we doing same expensive function, with same values \n",
    "result = expensive_func(4)   # we should just memorize it to cashe & not calling it again. Only return value\n",
    "print(result)\n",
    "\n",
    "result = expensive_func(10)\n",
    "print(result)\n",
    "\n",
    "t2 = time.time() - t1\n",
    "print(f\"Finished in {round(t2, 3)} s.\")"
   ]
  },
  {
   "cell_type": "markdown",
   "id": "isolated-field",
   "metadata": {},
   "source": [
    "#### Faster calling"
   ]
  },
  {
   "cell_type": "code",
   "execution_count": 51,
   "id": "opposite-chassis",
   "metadata": {},
   "outputs": [
    {
     "name": "stdout",
     "output_type": "stream",
     "text": [
      "Computing 4 ...\n",
      "16\n",
      "Computing 10 ...\n",
      "100\n",
      "16\n",
      "100\n",
      "Finished in 2.004 s.\n"
     ]
    }
   ],
   "source": [
    "import time \n",
    "\n",
    "t1 = time.time()\n",
    "\n",
    "ef_cashe = {}\n",
    "\n",
    "def expensive_func(num):\n",
    "    if num in ef_cashe:\n",
    "        return ef_cashe[num]\n",
    "    \n",
    "    print(f\"Computing {num} ...\")\n",
    "    time.sleep(1)\n",
    "    result = num * num\n",
    "    ef_cashe[num] = result\n",
    "    return result\n",
    "\n",
    "result = expensive_func(4)\n",
    "print(result)\n",
    "\n",
    "result = expensive_func(10)\n",
    "print(result)\n",
    "                             # Concept is here, if we doing same expensive function, with same values \n",
    "result = expensive_func(4)   # we should just memorize it to cashe & not calling it again. Only return value\n",
    "print(result)\n",
    "\n",
    "result = expensive_func(10)\n",
    "print(result)\n",
    "\n",
    "t2 = time.time() - t1\n",
    "print(f\"Finished in {round(t2, 3)} s.\")"
   ]
  },
  {
   "cell_type": "markdown",
   "id": "14d5a686",
   "metadata": {},
   "source": [
    "# Combinations & Permutations"
   ]
  },
  {
   "cell_type": "markdown",
   "id": "6630a3e7",
   "metadata": {},
   "source": [
    "#### Combinations"
   ]
  },
  {
   "cell_type": "code",
   "execution_count": 52,
   "id": "aa08b533",
   "metadata": {},
   "outputs": [
    {
     "name": "stdout",
     "output_type": "stream",
     "text": [
      "(1, 2)\n",
      "(1, 3)\n",
      "(2, 3)\n"
     ]
    }
   ],
   "source": [
    "import itertools\n",
    "\n",
    "my_list = [1, 2, 3]\n",
    "\n",
    "combinations = itertools.combinations(my_list, 2)\n",
    "for c in combinations:\n",
    "    print(c)"
   ]
  },
  {
   "cell_type": "markdown",
   "id": "9e92bf6c",
   "metadata": {},
   "source": [
    "#### Permutations"
   ]
  },
  {
   "cell_type": "code",
   "execution_count": 53,
   "id": "129ff425",
   "metadata": {},
   "outputs": [
    {
     "name": "stdout",
     "output_type": "stream",
     "text": [
      "(1, 2)\n",
      "(1, 3)\n",
      "(2, 1)\n",
      "(2, 3)\n",
      "(3, 1)\n",
      "(3, 2)\n"
     ]
    }
   ],
   "source": [
    "import itertools\n",
    "\n",
    "my_list = [1, 2, 3]\n",
    "\n",
    "permutations = itertools.permutations(my_list, 2)\n",
    "for p in permutations:\n",
    "    print(p)"
   ]
  },
  {
   "cell_type": "markdown",
   "id": "9f502e29",
   "metadata": {},
   "source": [
    "#### Example:"
   ]
  },
  {
   "cell_type": "code",
   "execution_count": 54,
   "id": "401a3501",
   "metadata": {},
   "outputs": [
    {
     "name": "stdout",
     "output_type": "stream",
     "text": [
      "[(1, 3, 6), (1, 4, 5), (2, 3, 5)]\n",
      "[(1, 3, 6), (1, 4, 5), (1, 5, 4), (1, 6, 3), (2, 3, 5)]\n"
     ]
    }
   ],
   "source": [
    "import itertools\n",
    "\n",
    "my_list = [1, 2, 3, 4, 5, 6]\n",
    "\n",
    "combinations = itertools.combinations(my_list, 3)\n",
    "permutations = itertools.permutations(my_list, 3)\n",
    "\n",
    "print([result for result in combinations if sum(result) == 10])\n",
    "print([result for result in permutations if sum(result) == 10][:5])"
   ]
  },
  {
   "cell_type": "code",
   "execution_count": 55,
   "id": "0ae71d20",
   "metadata": {},
   "outputs": [
    {
     "name": "stdout",
     "output_type": "stream",
     "text": [
      "Match!\n"
     ]
    }
   ],
   "source": [
    "word = 'sample'\n",
    "my_letters = 'plmeas'\n",
    "\n",
    "combinations = itertools.combinations(my_letters, 6)\n",
    "permutations = itertools.permutations(my_letters, 6)\n",
    "\n",
    "for p in permutations:\n",
    "    if ''.join(p) == word:\n",
    "        print('Match!')\n",
    "        break\n",
    "    else:\n",
    "        pass \n",
    "        # print('No Match!')"
   ]
  },
  {
   "cell_type": "markdown",
   "id": "0bb81aa4",
   "metadata": {},
   "source": [
    "# Idempotence"
   ]
  },
  {
   "cell_type": "code",
   "execution_count": 56,
   "id": "acc060af",
   "metadata": {},
   "outputs": [],
   "source": [
    "#    Idempotence: The property of certain operations in mathematics and computer science, that can be applied\n",
    "#                 multiple times without changing the result beyond the initial application\n",
    "#\n",
    "#    Example: f(f(x)) = f(x)"
   ]
  },
  {
   "cell_type": "code",
   "execution_count": 57,
   "id": "bd45a378",
   "metadata": {},
   "outputs": [
    {
     "name": "stdout",
     "output_type": "stream",
     "text": [
      "20\n",
      "30\n",
      "10\n",
      "10\n"
     ]
    }
   ],
   "source": [
    "def add_ten(num):\n",
    "    return num + 10\n",
    "\n",
    "print(add_ten(10))\n",
    "print(add_ten(add_ten(10)))  # <-- Not Idempotence: bcs we get 30 here\n",
    "\n",
    "print(abs(-10))       # <-- For first time it could change!\n",
    "print(abs(abs(-10)))  # <-- Idempotence! We can applied abs() forever, and still gets 10\n",
    "\n",
    "a = 10  # <-- Idempotence !\n",
    "\n",
    "#    Easiest definition: Whenever you'll do smth over & over & over. And you do the same thing and you get the\n",
    "#                        same result everytime. (HTTPS METHOD for example)"
   ]
  },
  {
   "cell_type": "markdown",
   "id": "ec85332a",
   "metadata": {},
   "source": [
    "# DRY Principle: Don't Repeat YourSelf"
   ]
  },
  {
   "cell_type": "code",
   "execution_count": 58,
   "id": "a52e4a04",
   "metadata": {},
   "outputs": [],
   "source": [
    "#    DRY: A principle of software development, aimed at reducing repetition of\n",
    "#         information of all kinds."
   ]
  },
  {
   "cell_type": "markdown",
   "id": "617a43dc",
   "metadata": {},
   "source": [
    "#### Wrong way:"
   ]
  },
  {
   "cell_type": "code",
   "execution_count": 59,
   "id": "17a52dbd",
   "metadata": {},
   "outputs": [],
   "source": [
    "def homePage():\n",
    "    print('<div class=\"header\">')\n",
    "    print('<a href=\"#\">Home</a>')\n",
    "    print('<a href=\"#\">About</a>')\n",
    "    print('<a href=\"#\">Contact</a>')\n",
    "    print('</div>')\n",
    "    \n",
    "    print('</p>Welcome to our Home Page!</p>')\n",
    "    \n",
    "    print('<div class=\"footer\">')\n",
    "    print('<a href=\"#\">Home</a>')\n",
    "    print('<a href=\"#\">About</a>')\n",
    "    print('<a href=\"#\">Contact</a>')\n",
    "    print('</div>')\n",
    "    \n",
    "def aboutPage():\n",
    "    print('<div class=\"header\">')\n",
    "    print('<a href=\"#\">Home</a>')\n",
    "    print('<a href=\"#\">About</a>')\n",
    "    print('<a href=\"#\">Contact</a>')\n",
    "    print('</div>')\n",
    "    \n",
    "    print('</p>Welcome to our Home Page!</p>')\n",
    "    \n",
    "    print('<div class=\"footer\">')\n",
    "    print('<a href=\"#\">Home</a>')\n",
    "    print('<a href=\"#\">About</a>')\n",
    "    print('<a href=\"#\">Contact</a>')\n",
    "    print('</div>')\n",
    "    \n",
    "def contactPage():\n",
    "    print('<div class=\"header\">')\n",
    "    print('<a href=\"#\">Home</a>')\n",
    "    print('<a href=\"#\">About</a>')\n",
    "    print('<a href=\"#\">Contact</a>')\n",
    "    print('</div>')\n",
    "    \n",
    "    print('</p>Welcome to our Home Page!</p>')\n",
    "    \n",
    "    print('<div class=\"footer\">')\n",
    "    print('<a href=\"#\">Home</a>')\n",
    "    print('<a href=\"#\">About</a>')\n",
    "    print('<a href=\"#\">Contact</a>')\n",
    "    print('</div>')"
   ]
  },
  {
   "cell_type": "markdown",
   "id": "2351a003",
   "metadata": {},
   "source": [
    "#### Right way:"
   ]
  },
  {
   "cell_type": "code",
   "execution_count": 60,
   "id": "4bf26bb7",
   "metadata": {},
   "outputs": [
    {
     "name": "stdout",
     "output_type": "stream",
     "text": [
      "<div class=\"header\">\n",
      "<a href=\"#\">Home</a>\n",
      "<a href=\"#\">About</a>\n",
      "<a href=\"#\">Contact</a>\n",
      "</div>\n",
      "</p>Welcome to our Home Page!</p>\n",
      "<div class=\"footer\">\n",
      "<a href=\"#\">Home</a>\n",
      "<a href=\"#\">About</a>\n",
      "<a href=\"#\">Contact</a>\n",
      "</div>\n"
     ]
    }
   ],
   "source": [
    "def nav_menu():\n",
    "    print('<a href=\"#\">Home</a>')\n",
    "    print('<a href=\"#\">About</a>')\n",
    "    print('<a href=\"#\">Contact</a>')    \n",
    "\n",
    "    \n",
    "def header():\n",
    "    print('<div class=\"header\">')\n",
    "    nav_menu()\n",
    "    print('</div>')\n",
    "\n",
    "    \n",
    "def footer():\n",
    "    print('<div class=\"footer\">')\n",
    "    nav_menu()\n",
    "    print('</div>')\n",
    "    \n",
    "    \n",
    "def homePage():\n",
    "    header()\n",
    "    print('</p>Welcome to our Home Page!</p>')\n",
    "    footer()\n",
    "  \n",
    "\n",
    "def aboutPage():\n",
    "    header()\n",
    "    print('</p>Welcome to our Home Page!</p>')\n",
    "    footer()\n",
    " \n",
    "\n",
    "def contactPage():\n",
    "    header()    \n",
    "    print('</p>Welcome to our Home Page!</p>')    \n",
    "    footer()\n",
    "\n",
    "    \n",
    "homePage()"
   ]
  },
  {
   "cell_type": "markdown",
   "id": "f380e7cb",
   "metadata": {},
   "source": [
    "# String Interpolation"
   ]
  },
  {
   "cell_type": "code",
   "execution_count": 61,
   "id": "3821d05a",
   "metadata": {},
   "outputs": [],
   "source": [
    "#    String Interpolation: The process of evaluating a string literal containing one or more placeholders, \n",
    "#                          yielding a result in which the placeholders are replaced with their corresponding\n",
    "#                          values.\n",
    "#\n",
    "#    Example: f-string"
   ]
  },
  {
   "cell_type": "markdown",
   "id": "11f91d59",
   "metadata": {},
   "source": [
    "#### Example:"
   ]
  },
  {
   "cell_type": "code",
   "execution_count": 62,
   "id": "1d079967",
   "metadata": {},
   "outputs": [
    {
     "name": "stdout",
     "output_type": "stream",
     "text": [
      "My name isCoreyand I am28years old\n"
     ]
    }
   ],
   "source": [
    "name = 'Corey'\n",
    "age = 28\n",
    "\n",
    "greetings = 'My name is' + str(name) + 'and I am' + str(age) + 'years old' # Lot of problems with this concrete ex\n",
    "\n",
    "print(greetings)"
   ]
  },
  {
   "cell_type": "code",
   "execution_count": 63,
   "id": "b4cb7187",
   "metadata": {},
   "outputs": [
    {
     "name": "stdout",
     "output_type": "stream",
     "text": [
      "My name is Corey and I am 28 years old\n"
     ]
    }
   ],
   "source": [
    "name = 'Corey'\n",
    "age = 28\n",
    "\n",
    "greetings = 'My name is {} and I am {} years old'.format(name, age)\n",
    "\n",
    "print(greetings)"
   ]
  },
  {
   "cell_type": "code",
   "execution_count": 64,
   "id": "0fd8c11f",
   "metadata": {},
   "outputs": [
    {
     "name": "stdout",
     "output_type": "stream",
     "text": [
      "My name is Corey and I am 28 years old\n"
     ]
    }
   ],
   "source": [
    "name = 'Corey'\n",
    "age = 28\n",
    "\n",
    "greetings = f'My name is {name} and I am {age} years old'\n",
    "\n",
    "print(greetings)"
   ]
  }
 ],
 "metadata": {
  "kernelspec": {
   "display_name": "Python 3",
   "language": "python",
   "name": "python3"
  },
  "language_info": {
   "codemirror_mode": {
    "name": "ipython",
    "version": 3
   },
   "file_extension": ".py",
   "mimetype": "text/x-python",
   "name": "python",
   "nbconvert_exporter": "python",
   "pygments_lexer": "ipython3",
   "version": "3.8.10"
  }
 },
 "nbformat": 4,
 "nbformat_minor": 5
}
