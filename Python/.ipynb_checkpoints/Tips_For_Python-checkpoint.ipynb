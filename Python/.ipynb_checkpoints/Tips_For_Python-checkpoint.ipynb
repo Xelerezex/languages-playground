{
 "cells": [
  {
   "cell_type": "markdown",
   "id": "attached-citation",
   "metadata": {},
   "source": [
    "# Tip One"
   ]
  },
  {
   "cell_type": "code",
   "execution_count": 20,
   "id": "colored-techno",
   "metadata": {},
   "outputs": [
    {
     "name": "stdout",
     "output_type": "stream",
     "text": [
      "1,010,000\n"
     ]
    }
   ],
   "source": [
    "number_one = 1_000_000\n",
    "number_two = 10_000\n",
    "\n",
    "sum_ = number_one + number_two\n",
    "\n",
    "print(f\"{sum_:,}\") # <---- !!!"
   ]
  },
  {
   "cell_type": "markdown",
   "id": "graduate-assignment",
   "metadata": {},
   "source": [
    "# Tip Two"
   ]
  },
  {
   "cell_type": "code",
   "execution_count": 21,
   "id": "suffering-merchandise",
   "metadata": {},
   "outputs": [
    {
     "name": "stdout",
     "output_type": "stream",
     "text": [
      "5 John\n",
      "6 Jason\n",
      "7 Bill\n",
      "8 Muray\n",
      "[(0, 'John'), (1, 'Jason'), (2, 'Bill'), (3, 'Muray')]\n"
     ]
    }
   ],
   "source": [
    "lst = ['John', 'Jason', 'Bill', 'Muray']\n",
    "\n",
    "for index, name in enumerate(lst, start = 5):\n",
    "    print(index, name)\n",
    "    \n",
    "print(list(enumerate(lst)))"
   ]
  },
  {
   "cell_type": "markdown",
   "id": "formed-river",
   "metadata": {},
   "source": [
    "# Tip Three"
   ]
  },
  {
   "cell_type": "code",
   "execution_count": 22,
   "id": "experimental-native",
   "metadata": {},
   "outputs": [
    {
     "name": "stdout",
     "output_type": "stream",
     "text": [
      "0 is pos to -> a and rev is -> 100\n",
      "1 is pos to -> b and rev is -> 99\n",
      "2 is pos to -> c and rev is -> 98\n",
      "3 is pos to -> d and rev is -> 97\n",
      "4 is pos to -> e and rev is -> 96\n",
      "5 is pos to -> f and rev is -> 95\n",
      "6 is pos to -> g and rev is -> 94\n",
      "<zip object at 0x7f2c0410fb00>\n",
      "[(0, 'a', 100), (1, 'b', 99), (2, 'c', 98), (3, 'd', 97), (4, 'e', 96), (5, 'f', 95), (6, 'g', 94)]\n"
     ]
    }
   ],
   "source": [
    "# Zip stops after shortest zip, else we go zip_longest -> itertools\n",
    "\n",
    "abc = [i for i in 'abcdefg']\n",
    "num = [i for i in range(7)]\n",
    "rev_num = [(100 - i) for i in num]\n",
    "\n",
    "for number, letter, reverse in zip(num, abc, rev_num):\n",
    "    print(f\"{number} is pos to -> {letter} and rev is -> {reverse}\")\n",
    "    \n",
    "print(zip(num, abc, rev_num))\n",
    "print(list(zip(num, abc, rev_num)))"
   ]
  },
  {
   "cell_type": "markdown",
   "id": "freelance-tyler",
   "metadata": {},
   "source": [
    "# Tip Four"
   ]
  },
  {
   "cell_type": "code",
   "execution_count": 45,
   "id": "tropical-nicholas",
   "metadata": {},
   "outputs": [
    {
     "name": "stdout",
     "output_type": "stream",
     "text": [
      "1\n",
      "0 1 [2, 3, 4, 5]\n",
      "2 3 [4, 5, 6] 7 8 9\n"
     ]
    }
   ],
   "source": [
    "# Unpacking\n",
    "A, _ = (1, 0) # Want to unpack only a-value, _ - it's just temporary variable, where 2 goes to nowhere\n",
    "\n",
    "print(A)\n",
    "\n",
    "a, b, *c = (i for i in range(6))\n",
    "\n",
    "print(a, b, c)\n",
    "\n",
    "a, b, *_ = (i for i in range(6)) # If we want only first two values, and don't give a shit about other\n",
    "\n",
    "a, b, *c, d, e, f = (i for i in range(2, 10))\n",
    "print(a, b, c, d, e, f)"
   ]
  },
  {
   "cell_type": "markdown",
   "id": "sapphire-region",
   "metadata": {},
   "source": [
    "# Tip Five"
   ]
  },
  {
   "cell_type": "code",
   "execution_count": 57,
   "id": "gothic-annotation",
   "metadata": {},
   "outputs": [
    {
     "name": "stdout",
     "output_type": "stream",
     "text": [
      "Victor Hello\n"
     ]
    }
   ],
   "source": [
    "class Person():\n",
    "    name = 'Victor'\n",
    "    def say(self, what):\n",
    "        print(self.name, what)\n",
    "\n",
    "getattr(Person, 'name') # don't know is this shit\n",
    "attr_name = 'name'\n",
    "\n",
    "person = Person()\n",
    "\n",
    "getattr(person, attr_name)\n",
    "getattr(person, 'say')('Hello')"
   ]
  },
  {
   "cell_type": "code",
   "execution_count": 64,
   "id": "grave-liabilities",
   "metadata": {},
   "outputs": [
    {
     "name": "stdout",
     "output_type": "stream",
     "text": [
      "Corey\n",
      "Shafer\n",
      "Corey\n",
      "Shafer\n"
     ]
    }
   ],
   "source": [
    "# Still don't understand for what this stuff needs\n",
    "\n",
    "class Person():\n",
    "    pass\n",
    "\n",
    "person = Person()\n",
    "\n",
    "person_info = {'first': 'Corey', 'second': 'Shafer'}\n",
    "\n",
    "for key, value in person_info.items():\n",
    "    setattr(person, key, value)\n",
    "    \n",
    "print(person.first)\n",
    "print(person.second)\n",
    "\n",
    "for key in person_info.keys():\n",
    "    print(getattr(person, key))"
   ]
  },
  {
   "cell_type": "markdown",
   "id": "activated-burning",
   "metadata": {},
   "source": [
    "# Tip Six"
   ]
  },
  {
   "cell_type": "code",
   "execution_count": 72,
   "id": "boxed-speaking",
   "metadata": {},
   "outputs": [
    {
     "name": "stdout",
     "output_type": "stream",
     "text": [
      "Username: a\n",
      "Password: ········\n",
      "Logging In...\n",
      "['__call__', '__class__', '__delattr__', '__dir__', '__doc__', '__eq__', '__format__', '__func__', '__ge__', '__get__', '__getattribute__', '__gt__', '__hash__', '__init__', '__init_subclass__', '__le__', '__lt__', '__ne__', '__new__', '__reduce__', '__reduce_ex__', '__repr__', '__self__', '__setattr__', '__sizeof__', '__str__', '__subclasshook__']\n",
      "Help on method getpass in module ipykernel.kernelbase:\n",
      "\n",
      "getpass(prompt='', stream=None) method of ipykernel.ipkernel.IPythonKernel instance\n",
      "    Forward getpass to frontends\n",
      "    \n",
      "    Raises\n",
      "    ------\n",
      "    StdinNotImplentedError if active frontend doesn't support stdin.\n",
      "\n",
      "None\n"
     ]
    }
   ],
   "source": [
    "from getpass import getpass\n",
    "\n",
    "username = input('Username: ')\n",
    "password = getpass('Password: ')\n",
    "\n",
    "\n",
    "print('Logging In...')\n",
    "if password == 'a':\n",
    "    print(dir(getpass))\n",
    "    print(help(getpass))"
   ]
  },
  {
   "cell_type": "markdown",
   "id": "wound-highlight",
   "metadata": {},
   "source": [
    "# Tip Seven"
   ]
  },
  {
   "cell_type": "code",
   "execution_count": 8,
   "id": "occupational-snake",
   "metadata": {},
   "outputs": [
    {
     "name": "stdout",
     "output_type": "stream",
     "text": [
      "May 19, 2021 16:16:11\n",
      "May 19, 2021 16:16:12\n",
      "May 19, 2021 16:16:13\n"
     ]
    }
   ],
   "source": [
    "import time\n",
    "from datetime import datetime\n",
    "\n",
    "def display_time(time = None):\n",
    "    if time is None:\n",
    "        time = datetime.now()\n",
    "    print(time.strftime('%B %d, %Y %H:%M:%S'))\n",
    "    \n",
    "display_time()\n",
    "time.sleep(1)\n",
    "display_time()\n",
    "time.sleep(1)\n",
    "display_time()"
   ]
  },
  {
   "cell_type": "code",
   "execution_count": null,
   "id": "frank-efficiency",
   "metadata": {},
   "outputs": [],
   "source": []
  }
 ],
 "metadata": {
  "kernelspec": {
   "display_name": "Python 3",
   "language": "python",
   "name": "python3"
  },
  "language_info": {
   "codemirror_mode": {
    "name": "ipython",
    "version": 3
   },
   "file_extension": ".py",
   "mimetype": "text/x-python",
   "name": "python",
   "nbconvert_exporter": "python",
   "pygments_lexer": "ipython3",
   "version": "3.8.10"
  }
 },
 "nbformat": 4,
 "nbformat_minor": 5
}
