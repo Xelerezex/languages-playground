{
 "cells": [
  {
   "cell_type": "markdown",
   "id": "33d0fe33",
   "metadata": {},
   "source": [
    "# Classes:"
   ]
  },
  {
   "cell_type": "markdown",
   "id": "352ab087",
   "metadata": {},
   "source": [
    "## 1 Creating Classes (Classes & Instances)"
   ]
  },
  {
   "cell_type": "markdown",
   "id": "b4cb5e6f",
   "metadata": {},
   "source": [
    "#### Bad way of initializing variables in class"
   ]
  },
  {
   "cell_type": "code",
   "execution_count": 1,
   "id": "72ee6f61",
   "metadata": {},
   "outputs": [
    {
     "name": "stdout",
     "output_type": "stream",
     "text": [
      "<__main__.Employee object at 0x7f15685cf970>\n",
      "<__main__.Employee object at 0x7f15685cf9d0>\n",
      "www@gmail.com\n",
      "testtest@gmail.com\n"
     ]
    }
   ],
   "source": [
    "class Employee:\n",
    "    pass\n",
    "\n",
    "emp_1 = Employee()\n",
    "emp_2 = Employee()\n",
    "\n",
    "print(emp_1)\n",
    "print(emp_2)\n",
    "\n",
    "emp_1.first = \"Bill\"\n",
    "emp_1.last = \"Travis\"\n",
    "emp_1.email = \"www@gmail.com\"\n",
    "emp_1.pay = 70_000\n",
    "\n",
    "emp_2.first = \"Test\"\n",
    "emp_2.last = \"user\"\n",
    "emp_2.email = \"testtest@gmail.com\"\n",
    "emp_2.pay = 40_000\n",
    "\n",
    "print(emp_1.email)\n",
    "print(emp_2.email)"
   ]
  },
  {
   "cell_type": "markdown",
   "id": "861eb741",
   "metadata": {},
   "source": [
    "#### Good way of initializing variables in classes:"
   ]
  },
  {
   "cell_type": "code",
   "execution_count": 2,
   "id": "9aa20a2f",
   "metadata": {},
   "outputs": [
    {
     "name": "stdout",
     "output_type": "stream",
     "text": [
      "Bill.Travis@company.com\n",
      "Test.Test@company.com\n",
      "Bill Travis\n",
      "Test Test\n",
      "Bill Travis\n",
      "Test Test\n"
     ]
    }
   ],
   "source": [
    "class Employee:\n",
    "    def __init__(self, first, last, pay):\n",
    "        self.first = first  # <-- This called instance variables\n",
    "        self.last = last\n",
    "        self.pay = pay\n",
    "        self.email = first + '.' + last + '@company.com'\n",
    "    \n",
    "    def fullname(self):\n",
    "        return f\"{self.first} {self.last}\"\n",
    "    \n",
    "    \n",
    "emp_1 = Employee('Bill', 'Travis', 70_000)\n",
    "emp_2 = Employee('Test', 'Test', 30_000)\n",
    "\n",
    "\n",
    "print(emp_1.email)\n",
    "print(emp_2.email)\n",
    "\n",
    "print(emp_1.fullname())\n",
    "print(emp_2.fullname())\n",
    "\n",
    "# Calling method from Class\n",
    "print(Employee.fullname(emp_1))\n",
    "print(Employee.fullname(emp_2))"
   ]
  },
  {
   "cell_type": "markdown",
   "id": "9ae475db",
   "metadata": {},
   "source": [
    "## 2 Class Variables"
   ]
  },
  {
   "cell_type": "code",
   "execution_count": 3,
   "id": "798ede8e",
   "metadata": {},
   "outputs": [
    {
     "name": "stdout",
     "output_type": "stream",
     "text": [
      "70000\n",
      "72800\n",
      "1.04\n",
      "1.04\n",
      "{'first': 'Bill', 'last': 'Travis', 'pay': 72800, 'email': 'Bill.Travis@company.com', 'number': 0}\n",
      "2\n",
      "0\n",
      "1\n"
     ]
    }
   ],
   "source": [
    "class Employee:\n",
    "    num_of_emps = 0\n",
    "    raise_amount = 1.04     # <-- Class Variables. Same for all objects\n",
    "    \n",
    "    def __init__(self, first, last, pay):\n",
    "        self.first = first  # <-- This called instance variables. They are unique for all objects\n",
    "        self.last = last\n",
    "        self.pay = pay\n",
    "        self.email = first + '.' + last + '@company.com'\n",
    "        \n",
    "        Employee.num_of_emps += 1 \n",
    "        \n",
    "        self.number = Employee.num_of_emps - 1\n",
    "        \n",
    "        \n",
    "    \n",
    "    def fullname(self):\n",
    "        return f\"{self.first} {self.last}\"\n",
    "    \n",
    "    def apply_raise(self):\n",
    "        self.pay = int(self.pay * self.raise_amount)\n",
    "    \n",
    "emp_1 = Employee('Bill', 'Travis', 70_000)\n",
    "emp_2 = Employee('Test', 'Test', 30_000)\n",
    "\n",
    "print(emp_1.pay)\n",
    "emp_1.apply_raise()\n",
    "print(emp_1.pay)\n",
    "\n",
    "print(emp_1.raise_amount)\n",
    "print(Employee.raise_amount)\n",
    "\n",
    "print(emp_1.__dict__)  # <-- Printing namespace of emp_1\n",
    "\n",
    "# print(Employee.__dict__)\n",
    "\n",
    "print(Employee.num_of_emps)\n",
    "\n",
    "print(emp_1.number)\n",
    "print(emp_2.number)"
   ]
  },
  {
   "cell_type": "markdown",
   "id": "34422717",
   "metadata": {},
   "source": [
    "## 3 Class Methods and Static Methods"
   ]
  },
  {
   "cell_type": "markdown",
   "id": "803fe7ee",
   "metadata": {},
   "source": [
    "#### @classmethod - as method for changing class variables"
   ]
  },
  {
   "cell_type": "code",
   "execution_count": 4,
   "id": "f1bc2755",
   "metadata": {},
   "outputs": [
    {
     "name": "stdout",
     "output_type": "stream",
     "text": [
      "1.06\n",
      "1.06\n",
      "1.06\n",
      "1.03\n",
      "1.03\n",
      "1.03\n"
     ]
    }
   ],
   "source": [
    "class Employee:          # @classmethod - help to make method for working with\n",
    "    raise_amount = 1.04  # that variables (fields)\n",
    "    \n",
    "    def __init__(self, first, last, pay):\n",
    "        self.first = first     # <-- Here is instance\n",
    "        self.last = last\n",
    "        self.pay = pay\n",
    "        self.email = first + '.' + last + '@company.com'  # Self - is instance too\n",
    "              \n",
    "    \n",
    "    def fullname(self):                       # <-- Self - it is field of objects, and we can work only with\n",
    "        return f\"{self.first} {self.last}\"    #     Instance of classes.\n",
    "    \n",
    "                                             \n",
    "    def apply_raise(self):\n",
    "        self.pay = int(self.pay * self.raise_amount)\n",
    "    \n",
    "    \n",
    "    @classmethod  # <-- Working with class, not with Instance\n",
    "    def set_raise_amount(cls, amount):\n",
    "        cls.raise_amount = amount\n",
    "\n",
    "    \n",
    "    \n",
    "emp_1 = Employee('Bill', 'Travis', 70_000)\n",
    "emp_2 = Employee('Test', 'Test', 30_000)\n",
    "\n",
    "Employee.set_raise_amount(1.06)\n",
    "\n",
    "print(Employee.raise_amount)\n",
    "print(emp_1.raise_amount)\n",
    "print(emp_2.raise_amount)\n",
    "\n",
    "emp_2.set_raise_amount(1.03)  # <-- From objects it works too, but change variables not localy, but for hole class\n",
    "\n",
    "print(Employee.raise_amount)\n",
    "print(emp_1.raise_amount)\n",
    "print(emp_2.raise_amount)"
   ]
  },
  {
   "cell_type": "markdown",
   "id": "06151ed5",
   "metadata": {},
   "source": [
    "#### @classmethod as alternative constructor"
   ]
  },
  {
   "cell_type": "code",
   "execution_count": 5,
   "id": "b50a4663",
   "metadata": {},
   "outputs": [
    {
     "name": "stdout",
     "output_type": "stream",
     "text": [
      "John.Doe@company.com\n",
      "70_000\n"
     ]
    }
   ],
   "source": [
    "class Employee:    \n",
    "    raise_amount = 1.04  \n",
    "    \n",
    "    def __init__(self, first, last, pay):\n",
    "        self.first = first     \n",
    "        self.last = last\n",
    "        self.pay = pay\n",
    "        self.email = first + '.' + last + '@company.com'  \n",
    "        \n",
    "              \n",
    "    def fullname(self):                       \n",
    "        return f\"{self.first} {self.last}\"    \n",
    "    \n",
    "                                             \n",
    "    def apply_raise(self):\n",
    "        self.pay = int(self.pay * self.raise_amount)\n",
    "\n",
    "\n",
    "    @classmethod                             #  <-- It Is alternative CONSTRUCTOR\n",
    "    def from_string(cls, emp_str):\n",
    "        first, last, pay = emp_str.split(\"-\")\n",
    "        return cls(first, last, pay)\n",
    "    \n",
    "emp_1 = Employee('Bill', 'Travis', 70_000)\n",
    "emp_2 = Employee('Test', 'Test', 30_000)\n",
    "\n",
    "emp_str_1 = 'John-Doe-70_000'\n",
    "emp_str_2 = 'Zahna-Virt-50_000'\n",
    "emp_str_3 = 'Trevor-Jarvis-30_000'\n",
    "\n",
    "new_emp_1 = Employee.from_string(emp_str_1)\n",
    "\n",
    "print(new_emp_1.email)\n",
    "print(new_emp_1.pay)"
   ]
  },
  {
   "cell_type": "markdown",
   "id": "8aca05ba",
   "metadata": {},
   "source": [
    "#### @staticmethod"
   ]
  },
  {
   "cell_type": "code",
   "execution_count": 6,
   "id": "846733e8",
   "metadata": {},
   "outputs": [
    {
     "name": "stdout",
     "output_type": "stream",
     "text": [
      "False\n"
     ]
    }
   ],
   "source": [
    "class Employee:   \n",
    "    raise_amount = 1.04  \n",
    "    \n",
    "    def __init__(self, first, last, pay):\n",
    "        self.first = first     \n",
    "        self.last = last\n",
    "        self.pay = pay\n",
    "        self.email = first + '.' + last + '@company.com'  \n",
    "              \n",
    "    \n",
    "    def fullname(self):                       \n",
    "        return f\"{self.first} {self.last}\"    \n",
    "    \n",
    "                                             \n",
    "    def apply_raise(self):\n",
    "        self.pay = int(self.pay * self.raise_amount)\n",
    "\n",
    "\n",
    "    @staticmethod           # <-- Method should be static if you don't access the Instance or Class anywhere \n",
    "    def is_workday(day):    #     within the function\n",
    "        if day.weekday() == 5 or day.weekday() == 6:\n",
    "            return False\n",
    "        return True\n",
    "    \n",
    "emp_1 = Employee('Bill', 'Travis', 70_000)\n",
    "emp_2 = Employee('Test', 'Test', 30_000)\n",
    "\n",
    "import datetime\n",
    "my_date = datetime.date(2019, 6, 29)\n",
    "\n",
    "print(Employee.is_workday(my_date))"
   ]
  },
  {
   "cell_type": "markdown",
   "id": "2b42c691",
   "metadata": {},
   "source": [
    "## 4 Inheritance (Creating Subclasses)"
   ]
  },
  {
   "cell_type": "code",
   "execution_count": 7,
   "id": "44d0dad3",
   "metadata": {},
   "outputs": [
    {
     "name": "stdout",
     "output_type": "stream",
     "text": [
      "True\n",
      "True\n",
      "False\n",
      "True\n",
      "False\n"
     ]
    }
   ],
   "source": [
    "class Employee:   \n",
    "    raise_amount = 1.04  \n",
    "    \n",
    "    def __init__(self, first, last, pay):\n",
    "        self.first = first     \n",
    "        self.last = last\n",
    "        self.pay = pay\n",
    "        self.email = first + '.' + last + '@company.com'  \n",
    "\n",
    "    \n",
    "    def fullname(self):                       \n",
    "        return f\"{self.first} {self.last}\"    \n",
    "    \n",
    "                                             \n",
    "    def apply_raise(self):\n",
    "        self.pay = int(self.pay * self.raise_amount)\n",
    "\n",
    "        \n",
    "class Developer(Employee):\n",
    "    raise_amount = 1.10\n",
    "    \n",
    "    def __init__(self, first, last, pay, prog_lang):\n",
    "        super().__init__(first, last, pay)\n",
    "      # Employee.__init__(self, first, last, pay)   # <-- alternative of super()(super - if inheritance only once)\n",
    "        self.prog_lang = prog_lang                  #     not multiple inheritance, bcs it can confuses\n",
    "\n",
    "class Manager(Employee):\n",
    "\n",
    "    def __init__(self, first, last, pay, employees=None):\n",
    "        super().__init__(first, last, pay)\n",
    "        if employees is None:\n",
    "            self.employees = []\n",
    "        else:\n",
    "            self.employees = employees\n",
    "            \n",
    "    def add_emp(self, emp):\n",
    "        if emp not in self.employees:\n",
    "            self.employees.append(emp)\n",
    "    \n",
    "    def remove_emp(self, emp):\n",
    "        if emp in self.employees:\n",
    "            self.employees.remove(emp)\n",
    "            \n",
    "    def print_emp(self):\n",
    "        for emp in self.employees:\n",
    "            print('-->', emp.fullname())\n",
    "            \n",
    "            \n",
    "dev_1 = Developer('Bill', 'Travis', 70_000, 'C++')\n",
    "dev_2 = Developer('Vivat', 'Valders', 30_000, 'Java')\n",
    "\n",
    "mgr_1 = Manager('Suu', 'Ling', 50_000, [dev_1])\n",
    "\n",
    "# print(mgr_1.email)\n",
    "# mgr_1.print_emp()\n",
    "# mgr_1.add_emp(dev_2)\n",
    "# mgr_1.remove_emp(dev_1)\n",
    "# mgr_1.print_emp()\n",
    "\n",
    "print(isinstance(mgr_1, Manager))  # <-- Is obj instanse of some Class\n",
    "print(isinstance(mgr_1, Employee))\n",
    "print(isinstance(mgr_1, Developer))\n",
    "\n",
    "print(issubclass(Manager, Employee))  # <-- Is obj subclass of some Class\n",
    "print(issubclass(Manager, Developer))"
   ]
  },
  {
   "cell_type": "markdown",
   "id": "f9185473",
   "metadata": {},
   "source": [
    "## 5 Special (Magic/Dunder) Methods"
   ]
  },
  {
   "cell_type": "markdown",
   "id": "dbb8c3e0",
   "metadata": {},
   "source": [
    "#### \\_\\_repr\\_\\_() &  \\_\\_str\\_\\_() - methods"
   ]
  },
  {
   "cell_type": "code",
   "execution_count": 8,
   "id": "990f2c75",
   "metadata": {},
   "outputs": [
    {
     "name": "stdout",
     "output_type": "stream",
     "text": [
      "Employee('Bill', 'Travis', '70000')\n",
      "Bill Travis - Bill.Travis@company.com\n"
     ]
    }
   ],
   "source": [
    "\"\"\"__repr__ <-- Unambiguous representation of the object and should be used for debugging and\n",
    "                logging. Bcs now output is good-looking. previous version: \n",
    "                '<__main__.Employee object at 0x7f073d170100>'\"\"\"\n",
    "\n",
    "\"\"\"__str__ <-- Readable representation of an object and is meant to be used as a display to\n",
    "               the end-user\"\"\"\n",
    "\n",
    "class Employee:   \n",
    "    raise_amount = 1.04  \n",
    "    \n",
    "    def __init__(self, first, last, pay):  # <-- Dunder init. Init surounded by double underscores\n",
    "        self.first = first                 # Init is first dunder method\n",
    "        self.last = last\n",
    "        self.email = first + '.' + last + '@company.com'  \n",
    "        self.pay = pay\n",
    "    \n",
    "    def __repr__(self):  # <-- Dunder method for displation some stuff\n",
    "        return f'Employee(\\'{self.first}\\', \\'{self.last}\\', \\'{self.pay}\\')'\n",
    "\n",
    "    \n",
    "    def __str__(self):   # <-- Dunder method for displation some stuff\n",
    "        return f'{self.fullname()} - {self.email}' \n",
    "    \n",
    "    \n",
    "    def fullname(self):                       \n",
    "        return f\"{self.first} {self.last}\"    \n",
    "    \n",
    "                                             \n",
    "    def apply_raise(self):\n",
    "        self.pay = int(self.pay * self.raise_amount)\n",
    "                     \n",
    "    \n",
    "    \n",
    "emp_1 = Employee('Bill', 'Travis', 70_000)\n",
    "emp_2 = Employee('Vivat', 'Valders', 30_000)\n",
    "\n",
    "print(repr(emp_1))\n",
    "print(str(emp_1))"
   ]
  },
  {
   "cell_type": "markdown",
   "id": "44b8f9ec",
   "metadata": {},
   "source": [
    "#### \\_\\_add\\_\\_() method"
   ]
  },
  {
   "cell_type": "code",
   "execution_count": 9,
   "id": "6b94b0c2",
   "metadata": {},
   "outputs": [
    {
     "name": "stdout",
     "output_type": "stream",
     "text": [
      "3\n",
      "12\n"
     ]
    }
   ],
   "source": [
    "print(int.__add__(1, 2))\n",
    "print(str.__add__(\"1\", \"2\"))"
   ]
  },
  {
   "cell_type": "code",
   "execution_count": 10,
   "id": "b44ade27",
   "metadata": {},
   "outputs": [
    {
     "name": "stdout",
     "output_type": "stream",
     "text": [
      "100000\n"
     ]
    }
   ],
   "source": [
    "class Employee:   \n",
    "    raise_amount = 1.04  \n",
    "    \n",
    "    def __init__(self, first, last, pay):  \n",
    "        self.first = first                 \n",
    "        self.last = last\n",
    "        self.email = first + '.' + last + '@company.com'  \n",
    "        self.pay = pay\n",
    "    \n",
    "    def __repr__(self):  \n",
    "        return f'Employee(\\'{self.first}\\', \\'{self.last}\\', \\'{self.pay}\\')'\n",
    "\n",
    "    \n",
    "    def __str__(self):   \n",
    "        return f'{self.fullname()} - {self.email}' \n",
    "    \n",
    "    \n",
    "    def __add__(self, other):\n",
    "        return self.pay + other.pay\n",
    "    \n",
    "    \n",
    "    def fullname(self):                       \n",
    "        return f\"{self.first} {self.last}\"    \n",
    "    \n",
    "                                             \n",
    "    def apply_raise(self):\n",
    "        self.pay = int(self.pay * self.raise_amount)   \n",
    "    \n",
    "    \n",
    "emp_1 = Employee('Bill', 'Travis', 70_000)\n",
    "emp_2 = Employee('Vivat', 'Valders', 30_000)\n",
    "\n",
    "print(Employee.__add__(emp_1, emp_2))"
   ]
  },
  {
   "cell_type": "code",
   "execution_count": 11,
   "id": "fc7851a6",
   "metadata": {},
   "outputs": [
    {
     "name": "stdout",
     "output_type": "stream",
     "text": [
      "70000\n",
      "72800\n"
     ]
    }
   ],
   "source": [
    "print(emp_1.pay)\n",
    "Employee.apply_raise(emp_1)  # <-- That is for what we need self == emp_1.apply_raise()\n",
    "print(emp_1.pay)"
   ]
  },
  {
   "cell_type": "markdown",
   "id": "0d13d3ea",
   "metadata": {},
   "source": [
    "#### \\_\\_len\\_\\_() - method"
   ]
  },
  {
   "cell_type": "code",
   "execution_count": 12,
   "id": "bfc2442c",
   "metadata": {},
   "outputs": [
    {
     "name": "stdout",
     "output_type": "stream",
     "text": [
      "4\n",
      "4\n"
     ]
    }
   ],
   "source": [
    "print(len(\"test\"))\n",
    "print(\"test\".__len__())"
   ]
  },
  {
   "cell_type": "code",
   "execution_count": 13,
   "id": "f8092805",
   "metadata": {},
   "outputs": [
    {
     "name": "stdout",
     "output_type": "stream",
     "text": [
      "10\n"
     ]
    }
   ],
   "source": [
    "class Employee:   \n",
    "    raise_amount = 1.04  \n",
    "    \n",
    "    def __init__(self, first, last, pay):  \n",
    "        self.first = first                 \n",
    "        self.last = last\n",
    "        self.email = first + '.' + last + '@company.com'  \n",
    "        self.pay = pay\n",
    "    \n",
    "    def __repr__(self):  \n",
    "        return f'Employee(\\'{self.first}\\', \\'{self.last}\\', \\'{self.pay}\\')'\n",
    "\n",
    "    \n",
    "    def __str__(self):   \n",
    "        return f'{self.fullname()} - {self.email}' \n",
    "    \n",
    "    \n",
    "    def __add__(self, other):\n",
    "        return self.pay + other.pay\n",
    "    \n",
    "    \n",
    "    def __len__(self):\n",
    "        return len(self.fullname()) - 1\n",
    "    \n",
    "    \n",
    "    def fullname(self):                       \n",
    "        return f\"{self.first} {self.last}\"    \n",
    "    \n",
    "                                             \n",
    "    def apply_raise(self):\n",
    "        self.pay = int(self.pay * self.raise_amount)   \n",
    "    \n",
    "    \n",
    "emp_1 = Employee('Bill', 'Travis', 70_000)\n",
    "emp_2 = Employee('Vivat', 'Valders', 30_000)\n",
    "\n",
    "print(len(emp_1))"
   ]
  },
  {
   "cell_type": "markdown",
   "id": "d7889ffc",
   "metadata": {},
   "source": [
    "## 6 Property Decorators - Getters, Setters, and Deleters"
   ]
  },
  {
   "cell_type": "code",
   "execution_count": 14,
   "id": "61aa3c7a",
   "metadata": {},
   "outputs": [
    {
     "name": "stdout",
     "output_type": "stream",
     "text": [
      "Jim\n",
      "Jim.Bravis@company.com\n",
      "Jim Bravis\n",
      "Delete name!\n"
     ]
    }
   ],
   "source": [
    "class Employee:   \n",
    "    \n",
    "    def __init__(self, first, last):\n",
    "        self.first = first                 \n",
    "        self.last = last \n",
    "    \n",
    "    \n",
    "    @property          # <-- THis decorator helps us use method as variable\n",
    "    def email(self):                       \n",
    "        return f\"{self.first}.{self.last}@company.com\" \n",
    "    \n",
    "    @property\n",
    "    def fullname(self):                       \n",
    "        return f\"{self.first} {self.last}\"    \n",
    "    \n",
    "    \n",
    "    @fullname.setter  # <-- setter - magic word\n",
    "    def fullname(self, name):\n",
    "        first, last = name.split(\" \")\n",
    "        self.first = first \n",
    "        self.last = last\n",
    "    \n",
    "    \n",
    "    @fullname.deleter   # <-- deleter - magic word\n",
    "    def fullname(self):\n",
    "        print(\"Delete name!\")\n",
    "        self.first = None\n",
    "        self.last = None\n",
    "\n",
    "emp_1 = Employee('Bill', 'Travis')\n",
    "\n",
    "emp_1.fullname = 'Jim Bravis'\n",
    "\n",
    "print(emp_1.first)\n",
    "print(emp_1.email)\n",
    "print(emp_1.fullname)  # <-- After property decorator we can use our methods without braces\n",
    "\n",
    "del emp_1.fullname"
   ]
  },
  {
   "cell_type": "markdown",
   "id": "e00e3a56",
   "metadata": {},
   "source": [
    "## Differences between str() & repr()"
   ]
  },
  {
   "cell_type": "code",
   "execution_count": 15,
   "id": "75d5e804",
   "metadata": {},
   "outputs": [
    {
     "name": "stdout",
     "output_type": "stream",
     "text": [
      "[1, 2, 3, 4]\n",
      "[1, 2, 3, 4]\n",
      "'sample string'\n",
      "[1, 2, 3, 4]\n"
     ]
    }
   ],
   "source": [
    "a = [1, 2, 3, 4]\n",
    "b = 'sample string'\n",
    "\n",
    "print(str(a))   # <-- The goal of __str__ is to be readable\n",
    "print(repr(a))  # <-- The goal of __repr__ is to be unambiguous\n",
    "\n",
    "print(repr(b))  # <-- repr() for developer\n",
    "print(str(a))   # <-- str() for users"
   ]
  },
  {
   "cell_type": "code",
   "execution_count": 16,
   "id": "a6bc72e9",
   "metadata": {},
   "outputs": [
    {
     "name": "stdout",
     "output_type": "stream",
     "text": [
      "2021-06-23 09:10:25.080943+00:00\n",
      "datetime.datetime(2021, 6, 23, 9, 10, 25, 80943, tzinfo=<UTC>)\n"
     ]
    }
   ],
   "source": [
    "import datetime\n",
    "import pytz\n",
    "\n",
    "a = datetime.datetime.utcnow().replace(tzinfo=pytz.UTC)\n",
    "\n",
    "print(str(a))\n",
    "print(repr(a))  # <-- eval() it's like you'd like to put smth back to python"
   ]
  }
 ],
 "metadata": {
  "kernelspec": {
   "display_name": "Python 3",
   "language": "python",
   "name": "python3"
  },
  "language_info": {
   "codemirror_mode": {
    "name": "ipython",
    "version": 3
   },
   "file_extension": ".py",
   "mimetype": "text/x-python",
   "name": "python",
   "nbconvert_exporter": "python",
   "pygments_lexer": "ipython3",
   "version": "3.8.10"
  }
 },
 "nbformat": 4,
 "nbformat_minor": 5
}
