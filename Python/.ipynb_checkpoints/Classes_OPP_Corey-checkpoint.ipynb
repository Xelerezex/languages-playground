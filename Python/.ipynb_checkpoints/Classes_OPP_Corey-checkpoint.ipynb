{
 "cells": [
  {
   "cell_type": "markdown",
   "id": "33d0fe33",
   "metadata": {},
   "source": [
    "# Classes:"
   ]
  },
  {
   "cell_type": "markdown",
   "id": "352ab087",
   "metadata": {},
   "source": [
    "## 1 Creating Classes (Classes & Instances)"
   ]
  },
  {
   "cell_type": "markdown",
   "id": "b4cb5e6f",
   "metadata": {},
   "source": [
    "#### Bad way of initializing variables in class"
   ]
  },
  {
   "cell_type": "code",
   "execution_count": 5,
   "id": "72ee6f61",
   "metadata": {},
   "outputs": [
    {
     "name": "stdout",
     "output_type": "stream",
     "text": [
      "<__main__.Employee object at 0x7fda71ca5250>\n",
      "<__main__.Employee object at 0x7fda71ca5a30>\n",
      "www@gmail.com\n",
      "testtest@gmail.com\n"
     ]
    }
   ],
   "source": [
    "class Employee:\n",
    "    pass\n",
    "\n",
    "emp_1 = Employee()\n",
    "emp_2 = Employee()\n",
    "\n",
    "print(emp_1)\n",
    "print(emp_2)\n",
    "\n",
    "emp_1.first = \"Bill\"\n",
    "emp_1.last = \"Travis\"\n",
    "emp_1.email = \"www@gmail.com\"\n",
    "emp_1.pay = 70_000\n",
    "\n",
    "emp_2.first = \"Test\"\n",
    "emp_2.last = \"user\"\n",
    "emp_2.email = \"testtest@gmail.com\"\n",
    "emp_2.pay = 40_000\n",
    "\n",
    "print(emp_1.email)\n",
    "print(emp_2.email)"
   ]
  },
  {
   "cell_type": "markdown",
   "id": "861eb741",
   "metadata": {},
   "source": [
    "#### Good way of initializing variables in classes:"
   ]
  },
  {
   "cell_type": "code",
   "execution_count": 12,
   "id": "9aa20a2f",
   "metadata": {},
   "outputs": [
    {
     "name": "stdout",
     "output_type": "stream",
     "text": [
      "Bill.Travis@company.com\n",
      "Test.Test@company.com\n",
      "Bill Travis\n",
      "Test Test\n",
      "Bill Travis\n",
      "Test Test\n"
     ]
    }
   ],
   "source": [
    "class Employee:\n",
    "    def __init__(self, first, last, pay):\n",
    "        self.first = first  # <-- This called instance variables\n",
    "        self.last = last\n",
    "        self.pay = pay\n",
    "        self.email = first + '.' + last + '@company.com'\n",
    "    \n",
    "    def fullname(self):\n",
    "        return f\"{self.first} {self.last}\"\n",
    "    \n",
    "    \n",
    "emp_1 = Employee('Bill', 'Travis', 70_000)\n",
    "emp_2 = Employee('Test', 'Test', 30_000)\n",
    "\n",
    "\n",
    "print(emp_1.email)\n",
    "print(emp_2.email)\n",
    "\n",
    "print(emp_1.fullname())\n",
    "print(emp_2.fullname())\n",
    "\n",
    "# Calling method from Class\n",
    "print(Employee.fullname(emp_1))\n",
    "print(Employee.fullname(emp_2))"
   ]
  },
  {
   "cell_type": "markdown",
   "id": "9ae475db",
   "metadata": {},
   "source": [
    "## 2 Class Variables"
   ]
  },
  {
   "cell_type": "code",
   "execution_count": 28,
   "id": "798ede8e",
   "metadata": {},
   "outputs": [
    {
     "name": "stdout",
     "output_type": "stream",
     "text": [
      "70000\n",
      "72800\n",
      "1.04\n",
      "1.04\n",
      "{'first': 'Bill', 'last': 'Travis', 'pay': 72800, 'email': 'Bill.Travis@company.com', 'number': 0}\n",
      "2\n",
      "0\n",
      "1\n"
     ]
    }
   ],
   "source": [
    "class Employee:\n",
    "    num_of_emps = 0\n",
    "    raise_amount = 1.04     # <-- Class Variables. Same for all objects\n",
    "    \n",
    "    def __init__(self, first, last, pay):\n",
    "        self.first = first  # <-- This called instance variables. They are unique for all objects\n",
    "        self.last = last\n",
    "        self.pay = pay\n",
    "        self.email = first + '.' + last + '@company.com'\n",
    "        \n",
    "        Employee.num_of_emps += 1 \n",
    "        \n",
    "        self.number = Employee.num_of_emps - 1\n",
    "        \n",
    "        \n",
    "    \n",
    "    def fullname(self):\n",
    "        return f\"{self.first} {self.last}\"\n",
    "    \n",
    "    def apply_raise(self):\n",
    "        self.pay = int(self.pay * self.raise_amount)\n",
    "    \n",
    "emp_1 = Employee('Bill', 'Travis', 70_000)\n",
    "emp_2 = Employee('Test', 'Test', 30_000)\n",
    "\n",
    "print(emp_1.pay)\n",
    "emp_1.apply_raise()\n",
    "print(emp_1.pay)\n",
    "\n",
    "print(emp_1.raise_amount)\n",
    "print(Employee.raise_amount)\n",
    "\n",
    "print(emp_1.__dict__)  # <-- Printing namespace of emp_1\n",
    "\n",
    "# print(Employee.__dict__)\n",
    "\n",
    "print(Employee.num_of_emps)\n",
    "\n",
    "print(emp_1.number)\n",
    "print(emp_2.number)"
   ]
  },
  {
   "cell_type": "markdown",
   "id": "34422717",
   "metadata": {},
   "source": [
    "## 3 Class Methods and Static Methods"
   ]
  },
  {
   "cell_type": "code",
   "execution_count": null,
   "id": "f1bc2755",
   "metadata": {},
   "outputs": [],
   "source": []
  }
 ],
 "metadata": {
  "kernelspec": {
   "display_name": "Python 3",
   "language": "python",
   "name": "python3"
  },
  "language_info": {
   "codemirror_mode": {
    "name": "ipython",
    "version": 3
   },
   "file_extension": ".py",
   "mimetype": "text/x-python",
   "name": "python",
   "nbconvert_exporter": "python",
   "pygments_lexer": "ipython3",
   "version": "3.8.10"
  }
 },
 "nbformat": 4,
 "nbformat_minor": 5
}
