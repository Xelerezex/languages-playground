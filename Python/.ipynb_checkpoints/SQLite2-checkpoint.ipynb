{
 "cells": [
  {
   "cell_type": "code",
   "execution_count": 1,
   "id": "3e18b999",
   "metadata": {},
   "outputs": [],
   "source": [
    "import sqlite3"
   ]
  },
  {
   "cell_type": "code",
   "execution_count": 2,
   "id": "e31f48bb",
   "metadata": {},
   "outputs": [],
   "source": [
    "class Employee:\n",
    "    \"\"\"A sample Employee class\"\"\"\n",
    "\n",
    "    def __init__(self, first, last, pay):\n",
    "        self.first = first\n",
    "        self.last = last\n",
    "        self.pay = pay\n",
    "\n",
    "    @property\n",
    "    def email(self):\n",
    "        return '{}.{}@email.com'.format(self.first, self.last)\n",
    "\n",
    "    @property\n",
    "    def fullname(self):\n",
    "        return '{} {}'.format(self.first, self.last)\n",
    "\n",
    "    def __repr__(self):\n",
    "        return \"Employee('{}', '{}', {})\".format(self.first, self.last, self.pay)"
   ]
  },
  {
   "cell_type": "code",
   "execution_count": 28,
   "id": "b97c5cf0",
   "metadata": {},
   "outputs": [
    {
     "name": "stdout",
     "output_type": "stream",
     "text": [
      "('Corey', 'Schafer', 50000)\n"
     ]
    }
   ],
   "source": [
    "conn = sqlite3.connect('Files/employee.db')\n",
    "\n",
    "c = conn.cursor()\n",
    "try:\n",
    "    c.execute(\"\"\"CREATE TABLE employees (first text, last text, pay integer)\"\"\")\n",
    "    c.execute(\"\"\"INSERT INTO employees VALUES ('Corey', 'Schafer', 50000)\"\"\")\n",
    "    conn.commit()  #  <-- Commiting our query\n",
    "except:\n",
    "    c.execute(\"\"\"SELECT * FROM employees WHERE last='Schafer'\"\"\")\n",
    "    print(c.fetchone())  #  <--  Output one string of table\n",
    "    # c.fetchmany(5)  #  <--  Output five strings of table\n",
    "    # c.fetchall()  #  <--  Output all strings of table\n",
    "finally:\n",
    "    conn.commit()  #  <-- Commiting our query\n",
    "    conn.close()  #  <-- Do not forget to close!"
   ]
  },
  {
   "cell_type": "code",
   "execution_count": 36,
   "id": "40360cd9",
   "metadata": {},
   "outputs": [
    {
     "name": "stdout",
     "output_type": "stream",
     "text": [
      "John\n",
      "Doe\n",
      "80000\n",
      "[('Corey', 'Schafer', 50000), ('Corey', 'Schafer', 50000), ('Corey', 'Schafer', 50000), ('Corey', 'Schafer', 50000)]\n",
      "[('John', 'Doe', 80000), ('Jane', 'Doe', 60000), ('John', 'Doe', 80000), ('Jane', 'Doe', 60000), ('John', 'Doe', 80000), ('Jane', 'Doe', 60000), ('John', 'Doe', 80000), ('Jane', 'Doe', 60000), ('John', 'Doe', 80000), ('Jane', 'Doe', 60000), ('John', 'Doe', 80000), ('Jane', 'Doe', 60000), ('John', 'Doe', 80000), ('Jane', 'Doe', 60000), ('John', 'Doe', 80000), ('Jane', 'Doe', 60000)]\n"
     ]
    }
   ],
   "source": [
    "conn = sqlite3.connect('Files/employee.db')  #  :memory:  #  <-- For db from ram\n",
    "\n",
    "c = conn.cursor()\n",
    "\n",
    "emp_1 = Employee('John', 'Doe', 80_000)\n",
    "emp_2 = Employee('Jane', 'Doe', 60_000)\n",
    "\n",
    "print(emp_1.first)\n",
    "print(emp_1.last)\n",
    "print(emp_1.pay)\n",
    "\n",
    "# c.execute(\"\"\"INSERT INTO employees VALUES ('{emp_1.first}', '{emp_1.last}', {emp_1.pay})\"\"\")  #  Good for sql injection\n",
    "\n",
    "with conn:\n",
    "    c.execute(\"\"\"INSERT INTO employees VALUES (?, ?, ?)\"\"\", (emp_1.first, emp_1.last, emp_1.pay))  #  Another way of editing DB\n",
    "\n",
    "with conn:\n",
    "    c.execute(\"\"\"INSERT INTO employees VALUES (:first, :last, :pay)\"\"\", {'first': emp_2.first, 'last': emp_2.last, 'pay': emp_2.pay})\n",
    "\n",
    "with conn:\n",
    "    c.execute(\"\"\"SELECT * FROM employees WHERE last=?\"\"\", ('Schafer', ))\n",
    "    print(c.fetchall())\n",
    "\n",
    "with conn:\n",
    "    c.execute(\"\"\"SELECT * FROM employees WHERE last=:Doe\"\"\", {'Doe': 'Doe'})\n",
    "    print(c.fetchall())"
   ]
  },
  {
   "cell_type": "code",
   "execution_count": null,
   "id": "a35641e2",
   "metadata": {},
   "outputs": [],
   "source": []
  }
 ],
 "metadata": {
  "kernelspec": {
   "display_name": "Python 3",
   "language": "python",
   "name": "python3"
  },
  "language_info": {
   "codemirror_mode": {
    "name": "ipython",
    "version": 3
   },
   "file_extension": ".py",
   "mimetype": "text/x-python",
   "name": "python",
   "nbconvert_exporter": "python",
   "pygments_lexer": "ipython3",
   "version": "3.8.10"
  }
 },
 "nbformat": 4,
 "nbformat_minor": 5
}
