{
 "cells": [
  {
   "cell_type": "markdown",
   "id": "peaceful-mystery",
   "metadata": {},
   "source": [
    "# Generators"
   ]
  },
  {
   "cell_type": "code",
   "execution_count": 6,
   "id": "shared-authority",
   "metadata": {},
   "outputs": [
    {
     "name": "stdout",
     "output_type": "stream",
     "text": [
      "1\n",
      "4\n",
      "9\n",
      "16\n",
      "25\n"
     ]
    }
   ],
   "source": [
    "def square_numbers(nums):\n",
    "    for i in nums:\n",
    "        yield (i * i) # <-- Generator\n",
    "        \n",
    "my_nums = square_numbers([1, 2, 3, 4, 5])\n",
    "\n",
    "my_nums = (i * i for i in [1, 2, 3, 4, 5]) # <-- Generator too \n",
    "\n",
    "for item in my_nums:\n",
    "    print(item)\n",
    "    \n",
    "for item in my_nums: # <-- None to Output\n",
    "    print(item)"
   ]
  },
  {
   "cell_type": "markdown",
   "id": "mineral-miniature",
   "metadata": {},
   "source": [
    "# Decorators"
   ]
  },
  {
   "cell_type": "code",
   "execution_count": 1,
   "id": "sunset-compression",
   "metadata": {},
   "outputs": [],
   "source": [
    "#     Decorator: is just a function that takes another function as an argument adds some kind of\n",
    "#                functionality and then returns another function. All off this without altering the source-code\n",
    "#                of original function that you'd passed in."
   ]
  },
  {
   "cell_type": "code",
   "execution_count": 18,
   "id": "musical-vermont",
   "metadata": {},
   "outputs": [
    {
     "name": "stdout",
     "output_type": "stream",
     "text": [
      "wrapper executed this before display_info\n",
      "display_info ran with arguments (John, 25)\n",
      "{'key': 'bitch', 'zey': 'Itch'}\n"
     ]
    }
   ],
   "source": [
    "def decorator_function(original_function):\n",
    "    def wrapper_function(*args, **kwargs):\n",
    "        print(f'wrapper executed this before {original_function.__name__}')\n",
    "        return original_function(*args, **kwargs)\n",
    "    return wrapper_function\n",
    "\n",
    "@decorator_function # SAME AS <--- display = decorator_function(display)\n",
    "def display():\n",
    "    print('display function ran') # Decorator is's smth like adding new lines of code in code, that already exist\n",
    "    \n",
    "@decorator_function\n",
    "def display_info(name, age):\n",
    "    print(f'display_info ran with arguments ({name}, {age})')\n",
    "  \n",
    "display_info('John', 25)\n",
    "\n",
    "def f(**args):\n",
    "    return args\n",
    "\n",
    "print(f(key = 'bitch', zey = 'Itch'))"
   ]
  },
  {
   "cell_type": "markdown",
   "id": "tamil-wisconsin",
   "metadata": {},
   "source": [
    "#### Just for example"
   ]
  },
  {
   "cell_type": "code",
   "execution_count": 21,
   "id": "afraid-graduate",
   "metadata": {},
   "outputs": [
    {
     "name": "stdout",
     "output_type": "stream",
     "text": [
      "call method executed this before display\n",
      "display function ran\n",
      "call method executed this before display_info\n",
      "display_info ran with arguments (John, 25)\n"
     ]
    }
   ],
   "source": [
    "class decorator_class(object):\n",
    "    \n",
    "    def __init__(self, original_function):\n",
    "        self.original_function = original_function\n",
    "        \n",
    "    def __call__(self, *args, **kwargs):\n",
    "        print(f'call method executed this before {self.original_function.__name__}')\n",
    "        return self.original_function(*args, **kwargs)\n",
    "    \n",
    "@decorator_class\n",
    "def display():\n",
    "    print('display function ran')\n",
    "    \n",
    "@decorator_class\n",
    "def display_info(name, age):\n",
    "    print(f'display_info ran with arguments ({name}, {age})')\n",
    "    \n",
    "display()\n",
    "display_info('John', 25)"
   ]
  },
  {
   "cell_type": "markdown",
   "id": "functional-partition",
   "metadata": {},
   "source": [
    "#### Practical examples for decorators"
   ]
  },
  {
   "cell_type": "code",
   "execution_count": 73,
   "id": "severe-venice",
   "metadata": {},
   "outputs": [
    {
     "name": "stdout",
     "output_type": "stream",
     "text": [
      "display_info ran with arguments (Susan, 27)\n",
      "display_info ran in: 0.0002505779266357422 sec.\n"
     ]
    }
   ],
   "source": [
    "def my_logger(orig_func):\n",
    "    import logging\n",
    "    logging.basicConfig(filename = f'{orig_func.__name__}.log', level = logging.INFO)\n",
    "    \n",
    "    def wrapper(*args, **kwargs):\n",
    "        logging.info(\n",
    "            f'Ran with args: {args}, and kwargs: {kwargs}'\n",
    "        )\n",
    "        return orig_func(*args, **kwargs)\n",
    "    \n",
    "    return wrapper\n",
    "\n",
    "def my_timer(orig_func):\n",
    "    import time \n",
    "    \n",
    "    def wrapper(*args, **kwargs):\n",
    "        t1 = time.time()\n",
    "        result = orig_func(*args, **kwargs)\n",
    "        t2 = time.time() - t1\n",
    "        print(f'{orig_func.__name__} ran in: {t2} sec.')\n",
    "        return result\n",
    "    return wrapper\n",
    "\n",
    "# @my_logger\n",
    "# def display():\n",
    "#     print('display function ran')\n",
    "\n",
    "@my_logger # SAME AS <--- display_info = my_timer(my_logger(display_info))\n",
    "@my_timer  # SAME AS <--- display_info = my_logger(display_info) \n",
    "def display_info(name, age):\n",
    "    print(f'display_info ran with arguments ({name}, {age})')\n",
    "    \n",
    "# display()\n",
    "display_info('Susan', 27)"
   ]
  },
  {
   "cell_type": "markdown",
   "id": "regular-feeling",
   "metadata": {},
   "source": [
    "#### from functools import wraps"
   ]
  },
  {
   "cell_type": "code",
   "execution_count": 77,
   "id": "incorporate-alignment",
   "metadata": {},
   "outputs": [
    {
     "name": "stdout",
     "output_type": "stream",
     "text": [
      "display_info ran with arguments (Vova, 33)\n",
      "display_info ran in: 0.0001442432403564453 sec.\n"
     ]
    }
   ],
   "source": [
    "from functools import wraps\n",
    "\n",
    "def my_logger(orig_func):\n",
    "    import logging\n",
    "    logging.basicConfig(filename = f'{orig_func.__name__}.log', level = logging.INFO)\n",
    "    \n",
    "    @wraps(orig_func)\n",
    "    def wrapper(*args, **kwargs):\n",
    "        logging.info(\n",
    "            f'Ran with args: {args}, and kwargs: {kwargs}'\n",
    "        )\n",
    "        return orig_func(*args, **kwargs)\n",
    "    \n",
    "    return wrapper\n",
    "\n",
    "def my_timer(orig_func):\n",
    "    import time \n",
    "    \n",
    "    @wraps(orig_func)\n",
    "    def wrapper(*args, **kwargs):\n",
    "        t1 = time.time()\n",
    "        result = orig_func(*args, **kwargs)\n",
    "        t2 = time.time() - t1\n",
    "        print(f'{orig_func.__name__} ran in: {t2} sec.')\n",
    "        return result\n",
    "    return wrapper\n",
    "\n",
    "@my_logger # SAME AS <--- display_info = my_timer(my_logger(display_info))\n",
    "@my_timer  # SAME AS <--- display_info = my_logger(display_info) \n",
    "def display_info(name, age):\n",
    "    print(f'display_info ran with arguments ({name}, {age})')\n",
    "\n",
    "display_info('Vova', 33)"
   ]
  },
  {
   "cell_type": "code",
   "execution_count": 3,
   "id": "increased-avatar",
   "metadata": {},
   "outputs": [
    {
     "name": "stdout",
     "output_type": "stream",
     "text": [
      "1013\n"
     ]
    }
   ],
   "source": [
    "TOKEN = 'blablabla'\n",
    "DEBUG = False\n",
    "\n",
    "num = 10\n",
    "\n",
    "print(num, end='')\n",
    "\n",
    "if DEBUG:\n",
    "    print('Debug message', end='')\n",
    "\n",
    "print(num + 3)"
   ]
  },
  {
   "cell_type": "markdown",
   "id": "concrete-photographer",
   "metadata": {},
   "source": [
    "# Decorator Arguments"
   ]
  },
  {
   "cell_type": "code",
   "execution_count": 5,
   "id": "twelve-equilibrium",
   "metadata": {},
   "outputs": [
    {
     "name": "stdout",
     "output_type": "stream",
     "text": [
      "~ Executed before  display_info\n",
      "display_info ran with arguments (Alisa, 17)\n",
      "~ Executed after  display_info \n",
      "\n",
      "~ Executed before  display_info\n",
      "display_info ran with arguments (John, 25)\n",
      "~ Executed after  display_info \n",
      "\n"
     ]
    }
   ],
   "source": [
    "def prefix_decorator(prefix):\n",
    "    def decorator_function(original_function):\n",
    "        def wrapper_function(*args, **kwargs):\n",
    "            print(prefix, f'Executed before ', original_function.__name__)\n",
    "            result = original_function(*args, **kwargs)\n",
    "            print(prefix, f'Executed after ', original_function.__name__, '\\n')\n",
    "            return result\n",
    "        return wrapper_function\n",
    "    return decorator_function\n",
    "    \n",
    " \n",
    "@prefix_decorator('~')\n",
    "def display_info(name, age):\n",
    "    print(f'display_info ran with arguments ({name}, {age})')\n",
    "    \n",
    "display_info('Alisa', 17)\n",
    "display_info('John', 25)"
   ]
  },
  {
   "cell_type": "code",
   "execution_count": null,
   "id": "affiliated-miami",
   "metadata": {},
   "outputs": [],
   "source": []
  }
 ],
 "metadata": {
  "kernelspec": {
   "display_name": "Python 3",
   "language": "python",
   "name": "python3"
  },
  "language_info": {
   "codemirror_mode": {
    "name": "ipython",
    "version": 3
   },
   "file_extension": ".py",
   "mimetype": "text/x-python",
   "name": "python",
   "nbconvert_exporter": "python",
   "pygments_lexer": "ipython3",
   "version": "3.8.5"
  }
 },
 "nbformat": 4,
 "nbformat_minor": 5
}
