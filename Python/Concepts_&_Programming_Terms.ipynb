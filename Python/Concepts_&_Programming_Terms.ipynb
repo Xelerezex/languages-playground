{
 "cells": [
  {
   "cell_type": "markdown",
   "id": "excess-sculpture",
   "metadata": {},
   "source": [
    "# First Class Function"
   ]
  },
  {
   "cell_type": "markdown",
   "id": "introductory-pollution",
   "metadata": {},
   "source": [
    "#### Make variable as function"
   ]
  },
  {
   "cell_type": "code",
   "execution_count": 1,
   "id": "eastern-retreat",
   "metadata": {},
   "outputs": [
    {
     "name": "stdout",
     "output_type": "stream",
     "text": [
      "<function square at 0x7f56d8306700>\n",
      "36\n"
     ]
    }
   ],
   "source": [
    "def square(x):\n",
    "    return x * x\n",
    "\n",
    "f = square # After THIS we could treat our variable f as literally FUNCTION with body like func square\n",
    "\n",
    "print(square) \n",
    "print(f(6)) # <-- Work like function"
   ]
  },
  {
   "cell_type": "markdown",
   "id": "interpreted-stability",
   "metadata": {},
   "source": [
    "#### Throw function in function like variables"
   ]
  },
  {
   "cell_type": "code",
   "execution_count": 2,
   "id": "addressed-vancouver",
   "metadata": {},
   "outputs": [
    {
     "name": "stdout",
     "output_type": "stream",
     "text": [
      "[1, 8, 27, 64, 125, 216]\n"
     ]
    }
   ],
   "source": [
    "def my_map(func, arg_list): # <-- Map, from scratch to more understanding\n",
    "    result = []\n",
    "    for item in arg_list:\n",
    "        result.append(func(item))\n",
    "    return result\n",
    "\n",
    "def cube(x):\n",
    "    return x * x * x \n",
    "\n",
    "squares = my_map(cube, [1, 2, 3, 4, 5, 6])\n",
    "\n",
    "print(squares)"
   ]
  },
  {
   "cell_type": "markdown",
   "id": "certain-manufacturer",
   "metadata": {},
   "source": [
    "#### Return Function"
   ]
  },
  {
   "cell_type": "code",
   "execution_count": 3,
   "id": "injured-drink",
   "metadata": {},
   "outputs": [
    {
     "name": "stdout",
     "output_type": "stream",
     "text": [
      "Log: Hi!\n"
     ]
    }
   ],
   "source": [
    "def logger(msg): # <--- Enter main Func\n",
    "    \n",
    "    def log_message(): # <--- Creates temporary function\n",
    "        print('Log:', msg)\n",
    "        \n",
    "    return log_message # <--- RETURN temporary function\n",
    "\n",
    "log_hi = logger('Hi!') # <--- Makes from that func, with exactly that variable - A FUNCTION\n",
    "log_hi() # <--- Now that always works with 'Hi!' (It is called Closures)"
   ]
  },
  {
   "cell_type": "code",
   "execution_count": 4,
   "id": "normal-memphis",
   "metadata": {
    "scrolled": true
   },
   "outputs": [
    {
     "name": "stdout",
     "output_type": "stream",
     "text": [
      "<function html_tag.<locals>.wrap_text at 0x7f56d83068b0>\n",
      "<h1>Test Headline!</h1>\n",
      "<h1>Another Headline!</h1>\n",
      "<p>Test Paragraph!</p>\n"
     ]
    }
   ],
   "source": [
    "def html_tag(tag):\n",
    "    \n",
    "    def wrap_text(msg):\n",
    "        print(f'<{tag}>{msg}</{tag}>')\n",
    "        \n",
    "    return wrap_text\n",
    "\n",
    "print_h1 = html_tag('h1') # <--- Smth like we gets tag (var)\n",
    "print(print_h1)\n",
    "print_h1('Test Headline!') # <--- Here we had tag & now gets msg, bcs it's avalible\n",
    "print_h1('Another Headline!')\n",
    "\n",
    "print_p = html_tag('p')\n",
    "print_p('Test Paragraph!')"
   ]
  },
  {
   "cell_type": "markdown",
   "id": "limited-anthony",
   "metadata": {},
   "source": [
    "# Closures"
   ]
  },
  {
   "cell_type": "code",
   "execution_count": 27,
   "id": "polish-people",
   "metadata": {},
   "outputs": [
    {
     "name": "stdout",
     "output_type": "stream",
     "text": [
      "Hi\n",
      "Hello\n"
     ]
    }
   ],
   "source": [
    "# Closure is an inner_function that remembers and has access to variables in the local scope which it was \n",
    "# created even after the outher_function has finished executing  \n",
    "\n",
    "def outher_function(msg):\n",
    "    message = msg\n",
    "    \n",
    "    def inner_function():\n",
    "        print(message)\n",
    "    return inner_function #inner_function()<-- Just print message, inner_function <-- allow to work with local var\n",
    "\n",
    "# print(outher_function())\n",
    "\n",
    "hi_func = outher_function('Hi')\n",
    "hello_func = outher_function('Hello') # A closure closes over the free variables from their enviroment and in this\n",
    "                                      # case msg would be that free variable \n",
    "\n",
    "hi_func()\n",
    "hello_func()"
   ]
  },
  {
   "cell_type": "markdown",
   "id": "lonely-knife",
   "metadata": {},
   "source": [
    "#### Usefull example"
   ]
  },
  {
   "cell_type": "code",
   "execution_count": 33,
   "id": "blond-wages",
   "metadata": {},
   "outputs": [
    {
     "name": "stdout",
     "output_type": "stream",
     "text": [
      "7\n",
      "2\n"
     ]
    }
   ],
   "source": [
    "import logging\n",
    "logging.basicConfig(filename = 'example.log', level = logging.INFO)\n",
    "\n",
    "def logger(func):\n",
    "    def log_func(*args):\n",
    "        logging.info(f'Running \"{func.__name__}\" with arguments {args}')\n",
    "        print(func(*args))\n",
    "    return log_func \n",
    "\n",
    "def add(x, y):\n",
    "    return x + y\n",
    "\n",
    "def sub(x, y):\n",
    "    return x - y\n",
    "\n",
    "add_logger = logger(add) # Analog of execution function\n",
    "sub_logger = logger(sub) # Smth like assigment of paranthesis\n",
    "\n",
    "add_logger(3, 4)\n",
    "sub_logger(5, 3)"
   ]
  },
  {
   "cell_type": "code",
   "execution_count": 34,
   "id": "private-entrepreneur",
   "metadata": {},
   "outputs": [],
   "source": [
    "# Summary:\n",
    "#     First-Class Function allow us treat functions like any other object. \n",
    "#     For example, we can pass functions as arguments to another function.\n",
    "#     We can return functions. And we can assign functions to variables.\n",
    "# \n",
    "#     Closures allow us to take advantage of first-class functions and return an inner function that\n",
    "#     remembers and has access to variables local to the scope in which they were created."
   ]
  },
  {
   "cell_type": "markdown",
   "id": "modern-cement",
   "metadata": {},
   "source": [
    "# Mutable & Immutable"
   ]
  },
  {
   "cell_type": "code",
   "execution_count": 2,
   "id": "uniform-somalia",
   "metadata": {},
   "outputs": [],
   "source": [
    "#     An immutable object is an object whose state cannot be modified after it is created.\n",
    "#     This is in contrast to a mutable object, which can be modified after it is created."
   ]
  },
  {
   "cell_type": "markdown",
   "id": "adverse-photographer",
   "metadata": {},
   "source": [
    "#### Immutable"
   ]
  },
  {
   "cell_type": "code",
   "execution_count": 9,
   "id": "voluntary-borough",
   "metadata": {},
   "outputs": [
    {
     "name": "stdout",
     "output_type": "stream",
     "text": [
      "cory\n",
      "Adress of a is 139826960502960\n",
      "vern\n",
      "Adress of a is 139826959923888\n",
      "False\n"
     ]
    }
   ],
   "source": [
    "a = 'cory'\n",
    "print(a)\n",
    "a1 = id(a)\n",
    "print(f'Adress of a is {id(a)}')\n",
    "\n",
    "a = 'vern' # <-- It Is not Modifing, it's creating new object\n",
    "# a[0] = 'C' # <-- Causes compilation error\n",
    "print(a)\n",
    "a2 = id(a)\n",
    "print(f'Adress of a is {id(a)}')\n",
    "print(a1 == a2)"
   ]
  },
  {
   "cell_type": "markdown",
   "id": "official-resource",
   "metadata": {},
   "source": [
    "#### Mutable"
   ]
  },
  {
   "cell_type": "code",
   "execution_count": 11,
   "id": "electrical-advisory",
   "metadata": {},
   "outputs": [
    {
     "name": "stdout",
     "output_type": "stream",
     "text": [
      "[1, 2, 3, 4, 5]\n",
      "adress of b is 139826959922112\n",
      "['C', 2, 3, 4, 5]\n",
      "bdress of b is 139826959922112\n",
      "True\n"
     ]
    }
   ],
   "source": [
    "b = [1, 2, 3, 4, 5]\n",
    "print(b)\n",
    "b1 = id(b)\n",
    "print(f'adress of b is {id(b)}')\n",
    "\n",
    "b[0] = 'C' # <-- Change object state, and it is the same object\n",
    "print(b)\n",
    "b2 = id(b)\n",
    "print(f'adress of b is {id(b)}')\n",
    "print(b1 == b2)"
   ]
  },
  {
   "cell_type": "markdown",
   "id": "suffering-impression",
   "metadata": {},
   "source": [
    "#### Example"
   ]
  },
  {
   "cell_type": "code",
   "execution_count": 17,
   "id": "alpha-likelihood",
   "metadata": {},
   "outputs": [
    {
     "name": "stdout",
     "output_type": "stream",
     "text": [
      "adress of employee is 139826959969536\n",
      "adress of employee is 139826959928080\n",
      "adress of employee is 139826959936176\n",
      "adress of employee is 139826960339632\n",
      "adress of employee is 139826959883840\n",
      "<ul>\n",
      "\t<li>John</li>\n",
      "\t<li>Jane</li>\n",
      "\t<li>Girly</li>\n",
      "\t<li>Vivien</li>\n",
      "\t<li>Carlos</li>\n",
      "<ul>\n",
      "\n"
     ]
    }
   ],
   "source": [
    "employees = ['John', 'Jane', 'Girly', 'Vivien', 'Carlos']\n",
    "\n",
    "output = '<ul>\\n'\n",
    "\n",
    "for employee in employees:\n",
    "    output += f'\\t<li>{employee}</li>\\n'\n",
    "    print(f'adress of employee is {id(output)}')\n",
    "    \n",
    "output += '<ul>\\n'\n",
    "\n",
    "print(output)"
   ]
  },
  {
   "cell_type": "markdown",
   "id": "celtic-pathology",
   "metadata": {},
   "source": [
    "# Memoization"
   ]
  },
  {
   "cell_type": "code",
   "execution_count": 18,
   "id": "listed-spank",
   "metadata": {},
   "outputs": [],
   "source": [
    "#      Memoisation: Is an optimization technique used primarily to speed up computer programs by storing the \n",
    "#                   results of expensive function calls and returning the cached result when the same inputs\n",
    "#                   occur again"
   ]
  },
  {
   "cell_type": "markdown",
   "id": "affected-catalog",
   "metadata": {},
   "source": [
    "#### Expensive calling"
   ]
  },
  {
   "cell_type": "code",
   "execution_count": 26,
   "id": "cloudy-minister",
   "metadata": {},
   "outputs": [
    {
     "name": "stdout",
     "output_type": "stream",
     "text": [
      "Computing 4 ...\n",
      "16\n",
      "Computing 10 ...\n",
      "100\n",
      "Computing 4 ...\n",
      "16\n",
      "Computing 10 ...\n",
      "100\n",
      "Finished in 4.006 s.\n"
     ]
    }
   ],
   "source": [
    "import time \n",
    "\n",
    "t1 = time.time()\n",
    "\n",
    "def expensive_func(num):    \n",
    "    print(f\"Computing {num} ...\")\n",
    "    time.sleep(1)\n",
    "    result = num * num\n",
    "    return result\n",
    "\n",
    "result = expensive_func(4)\n",
    "print(result)\n",
    "\n",
    "result = expensive_func(10)\n",
    "print(result)\n",
    "                             # Concept is here, if we doing same expensive function, with same values \n",
    "result = expensive_func(4)   # we should just memorize it to cashe & not calling it again. Only return value\n",
    "print(result)\n",
    "\n",
    "result = expensive_func(10)\n",
    "print(result)\n",
    "\n",
    "t2 = time.time() - t1\n",
    "print(f\"Finished in {round(t2, 3)} s.\")"
   ]
  },
  {
   "cell_type": "markdown",
   "id": "isolated-field",
   "metadata": {},
   "source": [
    "#### Faster calling"
   ]
  },
  {
   "cell_type": "code",
   "execution_count": 30,
   "id": "opposite-chassis",
   "metadata": {},
   "outputs": [
    {
     "name": "stdout",
     "output_type": "stream",
     "text": [
      "Computing 4 ...\n",
      "16\n",
      "Computing 10 ...\n",
      "100\n",
      "16\n",
      "100\n",
      "Finished in 2.003 s.\n"
     ]
    }
   ],
   "source": [
    "import time \n",
    "\n",
    "t1 = time.time()\n",
    "\n",
    "ef_cashe = {}\n",
    "\n",
    "def expensive_func(num):\n",
    "    if num in ef_cashe:\n",
    "        return ef_cashe[num]\n",
    "    \n",
    "    print(f\"Computing {num} ...\")\n",
    "    time.sleep(1)\n",
    "    result = num * num\n",
    "    ef_cashe[num] = result\n",
    "    return result\n",
    "\n",
    "result = expensive_func(4)\n",
    "print(result)\n",
    "\n",
    "result = expensive_func(10)\n",
    "print(result)\n",
    "                             # Concept is here, if we doing same expensive function, with same values \n",
    "result = expensive_func(4)   # we should just memorize it to cashe & not calling it again. Only return value\n",
    "print(result)\n",
    "\n",
    "result = expensive_func(10)\n",
    "print(result)\n",
    "\n",
    "t2 = time.time() - t1\n",
    "print(f\"Finished in {round(t2, 3)} s.\")"
   ]
  },
  {
   "cell_type": "code",
   "execution_count": null,
   "id": "silent-virgin",
   "metadata": {},
   "outputs": [],
   "source": []
  }
 ],
 "metadata": {
  "kernelspec": {
   "display_name": "Python 3",
   "language": "python",
   "name": "python3"
  },
  "language_info": {
   "codemirror_mode": {
    "name": "ipython",
    "version": 3
   },
   "file_extension": ".py",
   "mimetype": "text/x-python",
   "name": "python",
   "nbconvert_exporter": "python",
   "pygments_lexer": "ipython3",
   "version": "3.8.5"
  }
 },
 "nbformat": 4,
 "nbformat_minor": 5
}
